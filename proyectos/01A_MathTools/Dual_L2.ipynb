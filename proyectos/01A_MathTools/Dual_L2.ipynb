{
 "cells": [
  {
   "cell_type": "markdown",
   "metadata": {},
   "source": [
    "## References\n",
    "\n",
    "### Theory\n",
    "* Zetilli\n",
    "\n",
    "### Python code\n",
    "* https://matplotlib.org/tutorials/introductory/pyplot.html"
   ]
  },
  {
   "cell_type": "code",
   "execution_count": 1,
   "metadata": {},
   "outputs": [],
   "source": [
    "import matplotlib.pyplot as plt\n",
    "import numpy as np"
   ]
  },
  {
   "cell_type": "markdown",
   "metadata": {},
   "source": [
    "## Elemento del espacio dual\n",
    "Consideramos el espacio de las funciones en el intervalo $[0,L]$ con valor cero en los extremos. Estas funciones tienen una expansión única en serie de Fourier:\n",
    "$$\n",
    "f(x) = \\sum_{n=1}^{\\infty} f_n \\sin{(\\frac{\\pi nx}{L})}\n",
    "$$\n",
    "\n",
    "¿Podemos construir una función lineal de este espacio en los números reales, tal que, $F_{y}[f]=f(y)$?\n",
    "\n",
    "La solución parte por considerar la siguiente expansión:\n",
    "\n",
    "$$\n",
    "F_y(x) = \\sum_{n=1}^{\\infty} \\sin{(\\frac{\\pi ny}{L})} \\sin{(\\frac{\\pi nx}{L})}\n",
    "$$\n",
    "\n",
    "Por la unicidad de la serie de Fourier:\n",
    "\n",
    "$$\n",
    "F_{y}[f] \\equiv \\int_{0}^{L}dx F_y(x)f(x) = f(y)\n",
    "$$"
   ]
  },
  {
   "cell_type": "markdown",
   "metadata": {},
   "source": [
    "Definimos la sumatoria de la función $F_{y}(x)$ hasta un orden dado y un intevalo $L$. Es la función $F_{yLn}(x)$:"
   ]
  },
  {
   "cell_type": "code",
   "execution_count": 2,
   "metadata": {},
   "outputs": [],
   "source": [
    "def F_yLn(x,y,L,n):\n",
    "    output=0.0\n",
    "    for i in range(n):\n",
    "        output=output+np.sin(np.pi*i*y/L) * np.sin(np.pi*i*x/L)\n",
    "    return output"
   ]
  },
  {
   "cell_type": "markdown",
   "metadata": {},
   "source": [
    "Consideramos los siguientes valores para el tamaño del intervalo $(L\\sim L1)$ y punto de prueba $y\\sim y1$. El rango de graficación estará definido en $x1$"
   ]
  },
  {
   "cell_type": "code",
   "execution_count": 3,
   "metadata": {},
   "outputs": [],
   "source": [
    "L1=1.0\n",
    "y1=2*L1/5.0\n",
    "x1 = np.arange(0.0, 1.0, 0.004)"
   ]
  },
  {
   "cell_type": "markdown",
   "metadata": {},
   "source": [
    "Graficamos la función correspondiente a sumar primeros 20 modos:\n",
    "\n",
    "$$\n",
    "F_{yLn}(x)|_{y=y1,L=L1,n=20}\n",
    "$$"
   ]
  },
  {
   "cell_type": "code",
   "execution_count": 4,
   "metadata": {},
   "outputs": [
    {
     "data": {
      "image/png": "[encoded data removed]",
      "text/plain": [
       "<Figure size 432x288 with 1 Axes>"
      ]
     },
     "metadata": {
      "needs_background": "light"
     },
     "output_type": "display_data"
    }
   ],
   "source": [
    "plt.plot(x1, F_yLn(x1,y1,L1,20), 'k')\n",
    "plt.axvline(x=y1, ymin=-1.0, ymax=1.0)\n",
    "plt.show()"
   ]
  },
  {
   "cell_type": "code",
   "execution_count": null,
   "metadata": {},
   "outputs": [],
   "source": []
  }
 ],
 "metadata": {
  "kernelspec": {
   "display_name": "Python 3",
   "language": "python",
   "name": "python3"
  },
  "language_info": {
   "codemirror_mode": {
    "name": "ipython",
    "version": 3
   },
   "file_extension": ".py",
   "mimetype": "text/x-python",
   "name": "python",
   "nbconvert_exporter": "python",
   "pygments_lexer": "ipython3",
   "version": "3.7.3"
  }
 },
 "nbformat": 4,
 "nbformat_minor": 2
}
