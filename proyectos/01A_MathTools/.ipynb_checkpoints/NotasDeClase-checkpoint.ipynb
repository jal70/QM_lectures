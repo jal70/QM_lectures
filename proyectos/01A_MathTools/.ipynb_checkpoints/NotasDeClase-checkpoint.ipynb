{
 "cells": [
  {
   "cell_type": "markdown",
   "metadata": {
    "slideshow": {
     "slide_type": "slide"
    }
   },
   "source": [
    "# Objetivos\n",
    "En esta sección estudiaremos los conceptos de\n",
    "* Espacio vectorial\n",
    "* Isomorfismo de espacios vectoriales\n",
    "* Espacio dual\n",
    "* Subespacio vectorial\n",
    "* Suma directa de subespacios\n",
    "* Combinación lineal, dependencia e independencia lineal\n",
    "* Bases y dimensión\n",
    "* Producto tensorial\n",
    "* Espacio de Hilbert\n",
    "* Producto escalar\n",
    "* Notación de Dirac"
   ]
  },
  {
   "cell_type": "markdown",
   "metadata": {
    "slideshow": {
     "slide_type": "slide"
    }
   },
   "source": [
    "Al finalizar la sección los estudiantes deben comprender los conceptos básicos, deben ser capaces de verificar las características que definen un espacio vectorial, verificar la independencia lineal de un conjunto de vectores, expresar un vector como CL, de la base, hallar las componentes de un vector proyectando sobre los elementos de una base ortonormal."
   ]
  },
  {
   "cell_type": "markdown",
   "metadata": {
    "slideshow": {
     "slide_type": "subslide"
    }
   },
   "source": [
    "Esta sección es sobre algunos conceptos matemàticos indispensables para la descripción de la Mecánica Cuántica."
   ]
  },
  {
   "cell_type": "markdown",
   "metadata": {
    "slideshow": {
     "slide_type": "slide"
    }
   },
   "source": [
    "## Espacio Vectorial o Espacio Lineal\n",
    "Es un conjunto de objetos ($\\psi$, $\\phi$, $\\varphi$, etc) que llamaremos vectores, asociados a un campo numérico ($\\mathbb{R}$ o $\\mathbb{C}$) que llamaremos escalares.\n",
    "\n",
    "* $\\psi, \\phi, \\varphi \\dots \\in V$  \n",
    "* $a, b, c \\dots \\in \\mathbb{R},\\mathbb{C}$\n",
    "\n",
    "Este conjunto tiene dos operaciones asociadas\n",
    "\n",
    "* Suma de vectores\n",
    "* Producto por escalares"
   ]
  },
  {
   "cell_type": "markdown",
   "metadata": {
    "slideshow": {
     "slide_type": "slide"
    }
   },
   "source": [
    "## Propiedades de la suma de vectores\n",
    "La suma es una típica operación abeliana (conmutativa)\n",
    "\n",
    "* Clausura: $\\phi+\\varphi \\in V$ \n",
    "    * La suma nunca se escapa del espacio\n",
    "* Conmutatividad: $\\phi+\\varphi = \\varphi+\\phi$\n",
    "* Asociatividad: $(\\phi+\\varphi)+\\psi = \\varphi+(\\phi+\\psi)= \\varphi+\\phi+\\psi$\n",
    "    * El orden es indiferente: no hay que declararlo\n",
    "* Existencia del elemento neutro para todos los elementos: $O+\\phi=\\phi+O=\\phi$\n",
    "* Existencia del vector simétrico, opuesto o inverso de cada elemento: $\\phi+(-\\phi)=O$\n"
   ]
  },
  {
   "cell_type": "markdown",
   "metadata": {
    "slideshow": {
     "slide_type": "slide"
    }
   },
   "source": [
    "## Propiedades de la multiplicación por escalares\n",
    "\n",
    "* Clausura: $a\\phi \\in V$\n",
    "* Distributibidad:\n",
    "    * En suma de vectores $a(\\phi+\\varphi)=a\\phi+a\\varphi$\n",
    "    * En suma de escalares $(a+b)\\phi=a\\phi+b\\phi$\n",
    "* Asociatividad: $(ab)\\phi=a(b\\phi)=ab\\phi$\n",
    "* Existencia del elemento neutro para todos los vectores: $1\\phi = \\phi$"
   ]
  },
  {
   "cell_type": "markdown",
   "metadata": {
    "slideshow": {
     "slide_type": "slide"
    }
   },
   "source": [
    "## Subespacio vectorial\n",
    "Es un subconjunto de elementos de un espacio vectorial ($\\psi$, $\\phi$, $\\varphi$, etc) \n",
    "\n",
    "* Satisface las propiedades de las operaciones por sí mismo.\n",
    "* Atención a las propiedades de clausura y existencia de vector simétrico"
   ]
  },
  {
   "cell_type": "markdown",
   "metadata": {
    "slideshow": {
     "slide_type": "slide"
    }
   },
   "source": [
    "## Combinación lineal\n",
    "Es una operación donde se conmbinan la suma de vectores y el producto por escalares\n",
    "\n",
    "$$\\psi=\\sum_{i=1}^{n}a_i\\phi_i$$\n",
    "\n",
    "El vector $\\psi$ es la combinación lineal **(CL)** de los $n$ vectores $\\{\\phi_1\\dots\\phi_n\\}$ con **coeficientes** escalares $\\{a_1 \\dots a_n\\}$"
   ]
  },
  {
   "cell_type": "markdown",
   "metadata": {
    "slideshow": {
     "slide_type": "slide"
    }
   },
   "source": [
    "## Dependencia lineal\n",
    "Un conjunto de vectores $\\{\\phi_n\\}$ es linealmente independiente **(LI)** si cualquier **CL** de la siguiente forma:\n",
    "$$O=\\sum_{i=1}^{n}a_i\\phi_i,$$\n",
    "solo es posible cuando todos los coeficientes son nulos\n",
    "$$a_1=0,\\dots a_n=0$$.\n",
    "\n",
    "En caso contrario el conjunto es linealmente dependiente **(LD)**"
   ]
  },
  {
   "cell_type": "markdown",
   "metadata": {
    "slideshow": {
     "slide_type": "subslide"
    }
   },
   "source": [
    "## Dependencia lineal\n",
    "Cuando un conjunto es LD siempre se puede despejar uno de los vectores con coeficiente no-nulo en función de los demás. Si $a_k\\neq 0$:\n",
    "$$\\phi_k=-(\\sum_{i=1}^{k-1}\\frac{a_i}{a_k}\\phi_i + \\sum_{i=k+1}^{n}\\frac{a_i}{a_k}\\phi_i)$$"
   ]
  },
  {
   "cell_type": "code",
   "execution_count": null,
   "metadata": {},
   "outputs": [],
   "source": []
  }
 ],
 "metadata": {
  "celltoolbar": "Slideshow",
  "kernelspec": {
   "display_name": "Python 3",
   "language": "python",
   "name": "python3"
  },
  "language_info": {
   "codemirror_mode": {
    "name": "ipython",
    "version": 3
   },
   "file_extension": ".py",
   "mimetype": "text/x-python",
   "name": "python",
   "nbconvert_exporter": "python",
   "pygments_lexer": "ipython3",
   "version": "3.7.3"
  }
 },
 "nbformat": 4,
 "nbformat_minor": 2
}
