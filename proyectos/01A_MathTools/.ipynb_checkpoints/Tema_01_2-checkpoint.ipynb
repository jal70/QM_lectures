{
 "cells": [
  {
   "cell_type": "markdown",
   "metadata": {
    "slideshow": {
     "slide_type": "slide"
    }
   },
   "source": [
    "# Herramientas matemáticas\n",
    "\n",
    "## Operadores 1/2"
   ]
  },
  {
   "cell_type": "markdown",
   "metadata": {
    "slideshow": {
     "slide_type": "slide"
    }
   },
   "source": [
    "# Objetivos\n",
    "En esta sección estudiaremos los conceptos de"
   ]
  },
  {
   "cell_type": "markdown",
   "metadata": {
    "slideshow": {
     "slide_type": "slide"
    }
   },
   "source": [
    "competencias ..."
   ]
  },
  {
   "cell_type": "markdown",
   "metadata": {
    "slideshow": {
     "slide_type": "fragment"
    }
   },
   "source": [
    "### Referencia principal\n",
    "* ZETTILI, N. Quantum Mechanics Concepts and Applications: John Wiley & Sons Ltd UK. 2009. \n",
    "    * (Capítulo 2)"
   ]
  },
  {
   "cell_type": "markdown",
   "metadata": {
    "slideshow": {
     "slide_type": "slide"
    }
   },
   "source": [
    "## Operador\n",
    "En el contexto que nos atañe un operador es una regla que define una función lineal de un espacio vectorial en otro.\n",
    "\n",
    "$$\\hat{O}:V\\longrightarrow V'$$"
   ]
  },
  {
   "cell_type": "markdown",
   "metadata": {
    "slideshow": {
     "slide_type": "fragment"
    }
   },
   "source": [
    "$$\\hat{A}(a|\\psi > + b|\\phi >) = a\\hat{A}|\\psi > + b\\hat{A}|\\phi >$$ "
   ]
  },
  {
   "cell_type": "markdown",
   "metadata": {
    "slideshow": {
     "slide_type": "fragment"
    }
   },
   "source": [
    "### Hay una acción automática sobre el espacio dual\n",
    "\n",
    "$$(<\\psi|\\hat{A})|\\phi> \\equiv <\\psi|(\\hat{A}|\\phi>)$$\n",
    "\n",
    "$$<\\psi|\\hat{A} \\in V'^{*}$$"
   ]
  },
  {
   "cell_type": "markdown",
   "metadata": {
    "slideshow": {
     "slide_type": "slide"
    }
   },
   "source": [
    "## Ejemplos de operadores\n",
    "\n",
    "### Identidad\n",
    "$$\\hat{I}|\\phi > = |\\phi >$$\n",
    "\n",
    "### Gradiente (spoiler: base x)\n",
    "$$\\vec{\\nabla} \\psi(\\vec{r}) = \\partial_x \\psi \\boldsymbol{\\hat{e}_x} + \\partial_y \\psi \\boldsymbol{\\hat{e}_y} + \\partial_z \\psi \\boldsymbol{\\hat{e}_z}$$\n",
    "\n",
    "### Posición\n",
    "\n",
    "$$\\vec{R} \\psi(\\vec{r}) = ( x \\boldsymbol{\\hat{e}_x} + y \\boldsymbol{\\hat{e}_y} + z \\boldsymbol{\\hat{e}_z}) \\psi(\\vec{r})$$\n",
    "\n",
    "### Momentum\n",
    "\n",
    "$$\\vec{P} \\psi(\\vec{r}) = -i\\hbar \\vec{\\nabla} \\psi$$\n",
    "\n",
    "### Laplaciano\n",
    "\n",
    "$$\\nabla^2 \\psi = (\\partial_{x}^{2} + \\partial_{y}^{2} + \\partial_{z}^{2}) \\psi$$\n",
    "\n",
    "### Paridad\n",
    "\n",
    "$$P \\psi(\\vec{r}) = \\psi(-\\vec{r})$$"
   ]
  },
  {
   "cell_type": "code",
   "execution_count": null,
   "metadata": {},
   "outputs": [],
   "source": []
  }
 ],
 "metadata": {
  "celltoolbar": "Slideshow",
  "kernelspec": {
   "display_name": "Python 3",
   "language": "python",
   "name": "python3"
  },
  "language_info": {
   "codemirror_mode": {
    "name": "ipython",
    "version": 3
   },
   "file_extension": ".py",
   "mimetype": "text/x-python",
   "name": "python",
   "nbconvert_exporter": "python",
   "pygments_lexer": "ipython3",
   "version": "3.6.9"
  }
 },
 "nbformat": 4,
 "nbformat_minor": 4
}
