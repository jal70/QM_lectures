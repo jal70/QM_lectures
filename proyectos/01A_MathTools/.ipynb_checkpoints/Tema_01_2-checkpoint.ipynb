{
 "cells": [
  {
   "cell_type": "markdown",
   "metadata": {
    "slideshow": {
     "slide_type": "slide"
    }
   },
   "source": [
    "# Herramientas matemáticas\n",
    "\n",
    "## Operadores 1/2"
   ]
  },
  {
   "cell_type": "markdown",
   "metadata": {
    "slideshow": {
     "slide_type": "slide"
    }
   },
   "source": [
    "# Objetivos\n",
    "En esta sección estudiaremos los conceptos de\n",
    "\n",
    "* Operador lineal en un espacio de Hilbert\n",
    "* Operaciones de suma y producto de operadores\n",
    "* Valor esperado\n",
    "* Expresión de operadores en componentes\n",
    "* Operador adjunto\n",
    "* Operadores hermíticos y anti-hermíticos\n",
    "* Propiedades de los conmutadores y anti-conmutadores de operadores\n",
    "* Relación de incertidumbre\n",
    "* Operadores de proyección"
   ]
  },
  {
   "cell_type": "markdown",
   "metadata": {
    "slideshow": {
     "slide_type": "slide"
    }
   },
   "source": [
    "Se espera que los estudiantes muestren un conocimiento operacional básico de los conceptos que se presentarán en la sección."
   ]
  },
  {
   "cell_type": "markdown",
   "metadata": {
    "slideshow": {
     "slide_type": "fragment"
    }
   },
   "source": [
    "### Referencia principal\n",
    "* ZETTILI, N. Quantum Mechanics Concepts and Applications: John Wiley & Sons Ltd UK. 2009. \n",
    "    * (Capítulo 2)"
   ]
  },
  {
   "cell_type": "markdown",
   "metadata": {
    "slideshow": {
     "slide_type": "slide"
    }
   },
   "source": [
    "## Operador\n",
    "En el contexto que nos atañe un operador es una regla que define una función lineal de un espacio vectorial en otro.\n",
    "\n",
    "$$\\hat{O}:V\\longrightarrow V'$$"
   ]
  },
  {
   "cell_type": "markdown",
   "metadata": {
    "slideshow": {
     "slide_type": "fragment"
    }
   },
   "source": [
    "$$\\hat{A}(a|\\psi > + b|\\phi >) = a\\hat{A}|\\psi > + b\\hat{A}|\\phi >$$ "
   ]
  },
  {
   "cell_type": "markdown",
   "metadata": {
    "slideshow": {
     "slide_type": "fragment"
    }
   },
   "source": [
    "### Hay una acción automática sobre el espacio dual\n",
    "\n",
    "$$(<\\psi|\\hat{A})|\\phi> \\equiv <\\psi|(\\hat{A}|\\phi>)$$\n",
    "\n",
    "$$<\\psi|\\hat{A} \\in V^{*}$$"
   ]
  },
  {
   "cell_type": "markdown",
   "metadata": {
    "slideshow": {
     "slide_type": "slide"
    }
   },
   "source": [
    "## Ejemplos de operadores 1/2\n",
    "\n",
    "### Identidad\n",
    "$$\\hat{I}|\\phi > = |\\phi >$$\n",
    "\n",
    "### Dados un ket y un bra arbitrarios $|\\phi_1>$ y $<\\phi_2|$\n",
    "$$\\hat{A}_{\\phi_1,\\phi_2} |\\psi> = (|\\phi_1><\\phi_2|)~ |\\psi> = <\\phi_2|\\psi>|\\phi_1>$$\n",
    "\n",
    "### Gradiente (base x)\n",
    "$$\\vec{\\nabla} \\psi(\\vec{r}) = \\partial_x \\psi \\boldsymbol{\\hat{e}_x} + \\partial_y \\psi \\boldsymbol{\\hat{e}_y} + \\partial_z \\psi \\boldsymbol{\\hat{e}_z}$$\n",
    "\n",
    "### Posición\n",
    "\n",
    "$$\\vec{R} \\psi(\\vec{r}) = ( x \\boldsymbol{\\hat{e}_x} + y \\boldsymbol{\\hat{e}_y} + z \\boldsymbol{\\hat{e}_z}) \\psi(\\vec{r})$$\n"
   ]
  },
  {
   "cell_type": "markdown",
   "metadata": {
    "slideshow": {
     "slide_type": "slide"
    }
   },
   "source": [
    "## Ejemplos de operadores 2/2\n",
    "\n",
    "\n",
    "### Momentum\n",
    "\n",
    "$$\\vec{P} \\psi(\\vec{r}) = -i\\hbar \\vec{\\nabla} \\psi$$\n",
    "\n",
    "### Laplaciano\n",
    "\n",
    "$$\\nabla^2 \\psi = (\\partial_{x}^{2} + \\partial_{y}^{2} + \\partial_{z}^{2}) \\psi$$\n",
    "\n",
    "### Paridad\n",
    "\n",
    "$$P \\psi(\\vec{r}) = \\psi(-\\vec{r})$$"
   ]
  },
  {
   "cell_type": "markdown",
   "metadata": {
    "slideshow": {
     "slide_type": "slide"
    }
   },
   "source": [
    "## Álgebra de operadores\n",
    "Por comodidad, restringiremos la discusión al caso de $\\hat{O}:V\\longrightarrow V$ ($V'=V$)\n",
    "\n",
    "* Suma\n",
    "$$(\\hat{A} + \\hat{B})|\\psi> = \\hat{A}|\\psi> + \\hat{B}|\\psi>$$\n",
    "* Producto\n",
    "$$(\\hat{A}\\hat{B})|\\psi> = \\hat{A}(\\hat{B}|\\psi>)$$\n",
    "    * Conmutador:\n",
    "    $$\\hat{A}\\hat{B}=\\hat{B}\\hat{A}+[\\hat{A},\\hat{B}]$$\n",
    "    En general: $$[\\hat{A},\\hat{B}] \\neq 0$$"
   ]
  },
  {
   "cell_type": "markdown",
   "metadata": {
    "slideshow": {
     "slide_type": "slide"
    }
   },
   "source": [
    "## Asociatividad del producto de operadores\n",
    "La asociatividad del producto de operadores permite que las siguientes expresiones tengan sentido\n",
    "* $(\\hat{A}\\hat{B})\\hat{C} = \\hat{A}(\\hat{B}\\hat{C}) = \\hat{A}\\hat{B}\\hat{C}$\n",
    "* $(\\hat{A}\\hat{B})|\\psi> = \\hat{A}(\\hat{B}|\\psi>) = \\hat{A}\\hat{B}|\\psi>$\n",
    "* $\\hat{A}^m\\hat{A}^n = \\hat{A}^{m+n}$\n",
    "* $(<\\psi|\\hat{A})|\\phi> = <\\psi|(\\hat{A}|\\phi>) = <\\psi|\\hat{A}|\\phi>$"
   ]
  },
  {
   "cell_type": "markdown",
   "metadata": {
    "slideshow": {
     "slide_type": "fragment"
    }
   },
   "source": [
    "### Valor esperado\n",
    "\n",
    "* Se define el valor esperado de un operador con respecto a un estado de $\\mathcal{H}$. \n",
    "* Es un escalar, construído a partir de un estado del espacio y un operador.\n",
    "* Importante en la predicción del valor medio de una medición (ver postulados)\n",
    "\n",
    "$$<\\hat{A}> = \\frac{<\\psi|\\hat{A}|\\psi>}{<\\psi|\\psi>}$$"
   ]
  },
  {
   "cell_type": "markdown",
   "metadata": {
    "slideshow": {
     "slide_type": "slide"
    }
   },
   "source": [
    "## Componentes de un operador\n",
    "\n",
    "* Todo estado se expande en función de la base\n",
    "$$|\\psi>=\\sum_{i=1}^{N}a_i|\\phi_i>$$\n",
    "\n",
    "* Componentes $a_i$ son vectores columna (una generalización de )\n",
    "\n",
    "$$ <\\phi_i|\\psi> = \\left(\\begin{matrix}a_1 \\\\ a_2 \\\\ \\vdots \\\\ \\end{matrix}\\right)$$\n"
   ]
  },
  {
   "cell_type": "markdown",
   "metadata": {
    "slideshow": {
     "slide_type": "subslide"
    }
   },
   "source": [
    "## Componentes de un operador\n",
    "\n",
    "$$ <\\phi_i|\\psi> = \\left(\\begin{matrix}a_1 \\\\ a_2 \\\\ \\vdots \\\\ \\end{matrix}\\right)$$\n",
    "\n",
    "* El vector se puede \"rearmar\" a partir de las componentes calculadas con el PE (completitud de la base)\n",
    "\n",
    "$$|\\psi> = \\sum_{i=1}^{N}a_i|\\phi_i> = \\left(\\sum_{i=1}^{N}|\\phi_i>a_i\\right) = \\left(\\sum_{i=1}^{N}|\\phi_i><\\phi_i|\\psi>\\right) = \\left(\\sum_{i=1}^{N}|\\phi_i><\\phi_i|\\right)|\\psi>$$\n",
    "\n",
    "* **Las bases van y vienen. Los vectores quedan, permanecen.**"
   ]
  },
  {
   "cell_type": "markdown",
   "metadata": {
    "slideshow": {
     "slide_type": "fragment"
    }
   },
   "source": [
    "$$\\left(\\sum_{i=1}^{N}|\\phi_i><\\phi_i|\\right) = |\\phi_1><\\phi_1| + |\\phi_2><\\phi_2| + \\cdots = \\hat{I}$$"
   ]
  },
  {
   "cell_type": "markdown",
   "metadata": {
    "slideshow": {
     "slide_type": "slide"
    }
   },
   "source": [
    "## Componentes de un operador\n",
    "\n",
    "* Los operadores son matrices (generalización de )\n",
    "\n",
    "$$|\\psi'> = \\hat{A}|\\psi>$$\n",
    "\n"
   ]
  },
  {
   "cell_type": "markdown",
   "metadata": {
    "slideshow": {
     "slide_type": "fragment"
    }
   },
   "source": [
    "$$a'_j = <\\phi_j|\\psi'> = <\\phi_j|\\hat{A}|\\psi>$$\n",
    "\n"
   ]
  },
  {
   "cell_type": "markdown",
   "metadata": {
    "slideshow": {
     "slide_type": "fragment"
    }
   },
   "source": [
    "$$a'_j = <\\phi_j|\\psi'> = <\\phi_j|\\hat{A}|\\left(\\sum_{i=1}^{N}|\\phi_i><\\phi_i|\\right)|\\psi>$$\n",
    "\n",
    "$$a'_j =  \\sum_{i=1}^{N}<\\phi_j|\\hat{A}|\\phi_i><\\phi_i|\\psi>$$\n"
   ]
  },
  {
   "cell_type": "markdown",
   "metadata": {
    "slideshow": {
     "slide_type": "fragment"
    }
   },
   "source": [
    "$$a'_j =  \\sum_{i=1}^{N}A_{ji} a_i$$\n",
    "\n",
    "$$<\\phi_j|\\hat{A}|\\phi_i> \\equiv A_{ji}$$"
   ]
  },
  {
   "cell_type": "markdown",
   "metadata": {
    "slideshow": {
     "slide_type": "subslide"
    }
   },
   "source": [
    "## Base -> componentes -> aterrizamos -> calculamos cosas\n",
    "\n",
    "$$ |\\psi'> = \\hat{A}|\\psi> \\longrightarrow a'_j =  \\sum_{i=1}^{N}A_{ji} a_i \\longrightarrow \\left(\\begin{matrix}a'_1 \\\\ a'_2 \\\\ \\vdots \\\\ \\end{matrix}\\right) = \\left(\\begin{matrix}A_{11} & A_{12} & \\cdots \\\\ A_{21} & A_{22} & \\cdots \\\\ \\vdots & \\vdots & \\ddots \\\\ \\end{matrix}\\right)\\left(\\begin{matrix}a_1 \\\\ a_2 \\\\ \\vdots \\\\ \\end{matrix}\\right)$$\n",
    "\n",
    "### Recordar\n",
    "\n",
    "$$a_i = <\\phi_i|\\psi>$$\n",
    "\n",
    "$$A_{ij} = <\\phi_i|\\hat{A}|\\phi_j>$$"
   ]
  },
  {
   "cell_type": "markdown",
   "metadata": {
    "slideshow": {
     "slide_type": "slide"
    }
   },
   "source": [
    "# Operador adjunto\n",
    "\n",
    "* Def\n",
    "$$<\\psi|\\hat{A}^{\\dagger}|\\phi> = <\\phi|\\hat{A}|\\psi>^{*}$$\n",
    "\n",
    "* Para todos los estados $|\\psi>$ y $|\\phi>$ posibles."
   ]
  },
  {
   "cell_type": "markdown",
   "metadata": {
    "slideshow": {
     "slide_type": "subslide"
    }
   },
   "source": [
    "## Propiedades\n",
    "$$\\left(\\hat{A}^{\\dagger}\\right)^{\\dagger}=\\hat{A}.$$\n",
    "\n",
    "$$\\left(a\\hat{A}+b\\hat{B}\\right)^{\\dagger} = a^{*}\\hat{A}^{\\dagger}+b^{*}\\hat{B}^{\\dagger}.$$\n",
    "\n",
    "$$\\left(\\hat{A}\\hat{B}\\right)^{\\dagger} = \\hat{B}^{\\dagger}\\hat{A}^{\\dagger}.$$\n",
    "\n",
    "$$\\left(\\hat{A}^{n}\\right)^{\\dagger} = \\left(\\hat{A}^{\\dagger}\\right)^{n}.$$\n",
    "\n",
    "$$\\left(|\\phi_1><\\phi_2|\\right)^{\\dagger} = |\\phi_2><\\phi_1|.$$\n"
   ]
  },
  {
   "cell_type": "markdown",
   "metadata": {
    "slideshow": {
     "slide_type": "subslide"
    }
   },
   "source": [
    "## Propiedades\n",
    "\n",
    "$$\\left(\\hat{A}^{\\dagger}\\right)_{ij} = A^{*}_{ji}.$$\n",
    "\n",
    "$$|a\\hat{A}\\psi> = a\\hat{A}|\\psi>.$$\n",
    "\n",
    "$$<a\\hat{A}\\psi| = a^{*}<\\psi|\\hat{A}^{\\dagger}.$$\n",
    "\n",
    "$$<\\hat{A}^{\\dagger}\\psi|\\phi> = <\\psi|\\hat{A}|\\phi> = <\\psi|\\hat{A}\\phi>.$$"
   ]
  },
  {
   "cell_type": "markdown",
   "metadata": {
    "slideshow": {
     "slide_type": "slide"
    }
   },
   "source": [
    "## Operador hermítico\n",
    "\n",
    "$$\\hat{H}^{\\dagger} = \\hat{H}.$$\n",
    "\n",
    "$$H_{ij} = H^{*}_{ji}$$\n",
    "\n",
    "## Operador anti-hermítico\n",
    "\n",
    "$$\\hat{A}^{\\dagger} = -\\hat{A}.$$\n",
    "\n",
    "$$A_{ij} = -A^{*}_{ji}$$"
   ]
  },
  {
   "cell_type": "markdown",
   "metadata": {
    "slideshow": {
     "slide_type": "slide"
    }
   },
   "source": [
    "# Propiedades del conmutador\n",
    "\n",
    "$$\\left[\\hat{A},\\hat{B}\\right] =  -\\left[\\hat{B},\\hat{A}\\right],$$\n",
    "\n",
    "$$\\left[\\hat{A},b\\hat{B} + c\\hat{C}\\right] =  b\\left[\\hat{A},\\hat{B}\\right] + c\\left[\\hat{A},\\hat{C}\\right],$$\n",
    "\n",
    "$$\\left[\\hat{A},\\hat{B}\\right]^{\\dagger} =  \\left[\\hat{B}^{\\dagger},\\hat{A}^{\\dagger}\\right],$$\n",
    "\n",
    "$$\\left[\\hat{A},\\hat{B}\\hat{C}\\right] =  \\hat{B}\\left[\\hat{A},\\hat{C}\\right] + \\left[\\hat{A},\\hat{B}\\right]\\hat{C},$$\n",
    "\n",
    "* Identidad de Jacobi\n",
    "\n",
    "$$\\left[\\hat{A},\\left[\\hat{B},\\hat{C}\\right]\\right] + \\left[\\hat{C},\\left[\\hat{A},\\hat{B}\\right]\\right] + \\left[\\hat{B},\\left[\\hat{C},\\hat{A}\\right]\\right] = 0$$\n",
    "\n",
    "* Operadores c-number\n",
    "\n",
    "$$\\left[\\hat{A},b\\hat{I}\\right] \\equiv \\left[\\hat{A},b\\right] = 0$$\n",
    "\n"
   ]
  },
  {
   "cell_type": "markdown",
   "metadata": {
    "slideshow": {
     "slide_type": "subslide"
    }
   },
   "source": [
    "# Propiedades del conmutador\n",
    "\n",
    "* Operadores sobre funciones\n",
    "\n",
    "$$\\left[\\hat{X},\\hat{P}_x\\right] = x(-i\\hbar \\partial_{x}) - (-i\\hbar \\partial_{x})x = i\\hbar = i\\hbar\\hat{I}$$\n",
    "\n",
    "* Para convencerse del conmutador ver la acción explícita sobre una función $\\psi(x)$\n",
    "\n",
    "$$\\left[\\hat{X},\\hat{P}_x\\right] \\psi(x) = x(-i\\hbar \\partial_{x}) \\psi(x) - (-i\\hbar \\partial_{x})x\\psi(x) = i\\hbar \\psi(x) = i\\hbar\\hat{I} \\psi(x)$$"
   ]
  },
  {
   "cell_type": "markdown",
   "metadata": {
    "slideshow": {
     "slide_type": "slide"
    }
   },
   "source": [
    "## Potencias (ejercicio)\n",
    "\n",
    "$$\\left[\\hat{A},\\hat{B}^{n}\\right] = \\sum_{i=0}^{n-1}\\hat{B}^{i}\\left[\\hat{A},\\hat{B}\\right]\\hat{B}^{n-i-1}$$\n",
    "\n",
    "* $n=3$\n",
    "\n",
    "$$\\left[\\hat{A},\\hat{B}^{3}\\right] = \\hat{B}^{2}\\left[\\hat{A},\\hat{B}\\right] + \\left[\\hat{A},\\hat{B}^{2}\\right]\\hat{B} = \\hat{B}^{2}\\left[\\hat{A},\\hat{B}\\right] + \\sum_{i=0}^{1}\\hat{B}^{i}\\left[\\hat{A},\\hat{B}\\right]\\hat{B}^{3-i-1} = \\sum_{i=0}^{2}\\hat{B}^{i}\\left[\\hat{A},\\hat{B}\\right]\\hat{B}^{3-i-1}$$\n",
    "\n",
    "* $n=4$\n",
    "\n",
    "$$\\left[\\hat{A},\\hat{B}^{4}\\right] = \\hat{B}^{3}\\left[\\hat{A},\\hat{B}\\right] + \\left[\\hat{A},\\hat{B}^{3}\\right]\\hat{B} = \\hat{B}^{3}\\left[\\hat{A},\\hat{B}\\right] + \\sum_{i=0}^{2}\\hat{B}^{i}\\left[\\hat{A},\\hat{B}\\right]\\hat{B}^{4-i-1} = \\sum_{i=0}^{3}\\hat{B}^{i}\\left[\\hat{A},\\hat{B}\\right]\\hat{B}^{4-i-1}$$"
   ]
  },
  {
   "cell_type": "markdown",
   "metadata": {
    "slideshow": {
     "slide_type": "slide"
    }
   },
   "source": [
    "## Anti-conmutador\n",
    "\n",
    "$$\\hat{A}\\hat{B}=-\\hat{B}\\hat{A}+\\left\\{\\hat{A},\\hat{B}\\right\\}$$\n",
    "\n",
    "* c-numbers\n",
    "\n",
    "$$\\left\\{a,b\\right\\} = \\left\\{a\\hat{I},b\\hat{I}\\right\\} = 2ab$$\n",
    "\n",
    "$$\\left\\{\\hat{A},\\hat{B}\\right\\} = 0 \\Rightarrow \\hat{A}\\hat{B} = -\\hat{B}\\hat{A}$$\n"
   ]
  },
  {
   "cell_type": "markdown",
   "metadata": {
    "slideshow": {
     "slide_type": "subslide"
    }
   },
   "source": [
    "## Propiedades\n",
    "\n",
    "$$\\left\\{\\hat{A},\\hat{B}\\right\\} =  \\left\\{\\hat{B},\\hat{A}\\right\\},$$\n",
    "\n",
    "$$\\left\\{\\hat{A},b\\hat{B} + c\\hat{C}\\right\\} =  b\\left\\{\\hat{A},\\hat{B}\\right\\} + c\\left\\{\\hat{A},\\hat{C}\\right\\},$$\n",
    "\n",
    "$$\\left\\{\\hat{A},\\hat{B}\\right\\}^{\\dagger} =  \\left\\{\\hat{B}^{\\dagger},\\hat{A}^{\\dagger}\\right\\} =  \\left\\{\\hat{A}^{\\dagger},\\hat{B}^{\\dagger}\\right\\},$$\n",
    "\n",
    "$$\\left[\\hat{A},\\hat{B}\\hat{C}\\right] =  \\left\\{\\hat{A},\\hat{B}\\right\\}\\hat{C} - \\hat{B}\\left\\{\\hat{A},\\hat{C}\\right\\}.$$"
   ]
  },
  {
   "cell_type": "markdown",
   "metadata": {
    "slideshow": {
     "slide_type": "slide"
    }
   },
   "source": [
    "## Valor esperado, dispersión y relacion de incertidumbre\n",
    "\n",
    "* Ya hemos definido el valor esperado.\n",
    "\n",
    "* Veremos su relación con el promedio de una magnitud física observable ($A$) para un estado $|\\psi> = \\sum_{i=1}^{N}a_i|\\phi_i>$ del sistema\n",
    "\n",
    "$$<\\psi|\\psi> = 1 \\Rightarrow <\\hat{A}> = <\\psi|\\hat{A}|\\psi> = \\sum_{ij} a_i^{*}A_{ij}a_j$$\n",
    "\n",
    "* Podemos definir la varianza de $\\hat{A}$ en la forma usual\n",
    "\n",
    "$$(\\Delta A)^{2} = <\\hat{A}^2> - <\\hat{A}>^2$$\n",
    "\n",
    "* Para dos operadores $\\hat{A}$ y $\\hat{B}$ se puede probar la relación de incertidumbre **(ejercicio)**\n",
    "\n",
    "$$(\\Delta A)(\\Delta B) \\geq \\frac{1}{2}\\left|\\left<\\left[\\hat{A},\\hat{B}\\right]\\right>\\right| $$"
   ]
  },
  {
   "cell_type": "markdown",
   "metadata": {
    "slideshow": {
     "slide_type": "slide"
    }
   },
   "source": [
    "## Operadores de proyección\n",
    "\n",
    "Cumple dos propiedades\n",
    "\n",
    "$$\\hat{P}^{\\dagger} = \\hat{P},$$\n",
    "\n",
    "$$\\hat{P}^{2} = \\hat{P}.$$\n",
    "\n",
    "### Combinación de proyectores\n",
    "\n",
    "* Condición para que un producto de proyectores sea un proyector\n",
    "\n",
    "$$[\\hat{P}_1,\\hat{P}_2] = 0 \\Rightarrow \\hat{P}_1\\hat{P}_2$$\n",
    "\n",
    "* Condición para que la suma de proyectores sea un proyector\n",
    "\n",
    "$$\\hat{P}_1\\hat{P}_2 = 0 \\Leftrightarrow \\hat{P}_1 + \\hat{P}_2$$"
   ]
  },
  {
   "cell_type": "markdown",
   "metadata": {
    "slideshow": {
     "slide_type": "subslide"
    }
   },
   "source": [
    "## Ejemplo\n",
    "\n",
    "* Consideramos un estado normalizado\n",
    "\n",
    "$$<\\phi|\\phi> = 1.$$\n",
    "\n",
    "* Definimos\n",
    "\n",
    "$$\\hat{P}_{|\\phi>} \\equiv |\\phi><\\phi|.$$\n",
    "\n",
    "* Se cumple\n",
    "\n",
    "$$\\hat{P}_{|\\phi>}^{\\dagger} = (|\\phi><\\phi|)^{\\dagger} = |\\phi><\\phi| = \\hat{P}_{|\\phi>},$$\n",
    "\n",
    "$$\\hat{P}_{|\\phi>}^{2} = (|\\phi><\\phi|)^{2} = (|\\phi><\\phi|)(|\\phi><\\phi|) = |\\phi>(<\\phi|\\phi>)<\\phi| = \\hat{P}_{|\\phi>}.$$\n",
    "\n",
    "$\\hat{P}_{|\\phi>}$ es el proyector sobre $|\\phi>$\n",
    "\n",
    "$$\\begin{eqnarray*} |\\alpha> &=& |\\alpha>_{\\phi\\parallel} + |\\alpha>_{\\phi\\perp}  = \\hat{P}_{|\\phi>}|\\alpha> + (\\hat{I}-\\hat{P}_{|\\phi>})|\\alpha> \\\\  &=& |\\phi><\\phi|\\alpha> + (|\\alpha> - |\\phi><\\phi|\\alpha>) \\end{eqnarray*}$$"
   ]
  },
  {
   "cell_type": "markdown",
   "metadata": {
    "slideshow": {
     "slide_type": "slide"
    }
   },
   "source": [
    "## Otro ejemplo (ejercicio)\n",
    "\n",
    "* Dos estados $|\\phi_1>$ y $|\\phi_2>$ ortonormales\n",
    "\n",
    "* La suma  $\\hat{P}_{|\\phi_1>} + \\hat{P}_{|\\phi_2>}$ es un proyector\n",
    "\n",
    "* Proyecta sobre el subespacio generado por los estados  $|\\phi_1>$ y $|\\phi_2>$"
   ]
  }
 ],
 "metadata": {
  "celltoolbar": "Slideshow",
  "kernelspec": {
   "display_name": "Python 3",
   "language": "python",
   "name": "python3"
  },
  "language_info": {
   "codemirror_mode": {
    "name": "ipython",
    "version": 3
   },
   "file_extension": ".py",
   "mimetype": "text/x-python",
   "name": "python",
   "nbconvert_exporter": "python",
   "pygments_lexer": "ipython3",
   "version": "3.6.9"
  }
 },
 "nbformat": 4,
 "nbformat_minor": 4
}
