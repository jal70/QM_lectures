{
 "cells": [
  {
   "cell_type": "markdown",
   "metadata": {
    "slideshow": {
     "slide_type": "slide"
    }
   },
   "source": [
    "# Herramientas matemáticas\n",
    "\n",
    "## Espacios de Hilbert"
   ]
  },
  {
   "cell_type": "markdown",
   "metadata": {
    "slideshow": {
     "slide_type": "slide"
    }
   },
   "source": [
    "# Objetivos\n",
    "En esta sección estudiaremos los conceptos de\n",
    "* Espacio vectorial\n",
    "* Isomorfismo de espacios vectoriales\n",
    "* Espacio dual\n",
    "* Subespacio vectorial\n",
    "* Suma directa de subespacios\n",
    "* Combinación lineal, dependencia e independencia lineal\n",
    "* Bases y dimensión\n",
    "* Producto tensorial\n",
    "* Espacio de Hilbert\n",
    "* Producto escalar\n",
    "* Notación de Dirac"
   ]
  },
  {
   "cell_type": "markdown",
   "metadata": {
    "slideshow": {
     "slide_type": "slide"
    }
   },
   "source": [
    "Al finalizar la sección los estudiantes deben comprender los conceptos básicos, deben ser capaces de verificar las características que definen un espacio vectorial, verificar la independencia lineal de un conjunto de vectores, expresar un vector como CL, de la base, hallar las componentes de un vector proyectando sobre los elementos de una base ortonormal."
   ]
  },
  {
   "cell_type": "markdown",
   "metadata": {
    "slideshow": {
     "slide_type": "subslide"
    }
   },
   "source": [
    "Esta sección es sobre algunos conceptos matemáticos indispensables para la descripción de la Mecánica Cuántica.\n",
    "\n",
    "### Referencia principal\n",
    "* ZETTILI, N. Quantum Mechanics Concepts and Applications: John Wiley & Sons Ltd UK. 2009."
   ]
  },
  {
   "cell_type": "markdown",
   "metadata": {
    "slideshow": {
     "slide_type": "slide"
    }
   },
   "source": [
    "## Espacio Vectorial o Espacio Lineal\n",
    "Es un conjunto de objetos ($\\psi$, $\\varphi$, etc) que llamaremos vectores, asociados a un campo numérico ($\\mathbb{R}$ o $\\mathbb{C}$) que llamaremos escalares.\n",
    "\n",
    "* $\\psi, \\varphi \\dots \\in V$  \n",
    "* $a, b, c \\dots \\in \\mathbb{R},\\mathbb{C}$\n",
    "\n",
    "Este conjunto tiene dos operaciones asociadas\n",
    "\n",
    "* Suma de vectores\n",
    "* Producto por escalares"
   ]
  },
  {
   "cell_type": "markdown",
   "metadata": {
    "slideshow": {
     "slide_type": "slide"
    }
   },
   "source": [
    "## Propiedades de la suma de vectores\n",
    "La suma es una típica operación abeliana (conmutativa)\n",
    "\n",
    "* Clausura: $\\phi_1+\\phi_2 \\in V$ \n",
    "    * La suma nunca se escapa del espacio\n",
    "* Conmutatividad: $\\phi_|+\\phi_2 = \\phi_2+\\phi_1$\n",
    "* Asociatividad: $(\\phi_1+\\phi_2)+\\phi_3 = \\phi_1+(\\phi_2+\\phi_3)= \\phi_1+\\phi_2+\\phi_3$\n",
    "    * El orden es indiferente: no hay que declararlo\n",
    "* Existencia del elemento neutro para todos los elementos: $O+\\phi=\\phi+O=\\phi$\n",
    "* Existencia del vector simétrico, opuesto o inverso de cada elemento: $\\phi+(-\\phi)=O$\n"
   ]
  },
  {
   "cell_type": "markdown",
   "metadata": {
    "slideshow": {
     "slide_type": "slide"
    }
   },
   "source": [
    "## Propiedades de la multiplicación por escalares\n",
    "\n",
    "* Clausura: $a\\phi \\in V$\n",
    "* Distributibidad:\n",
    "    * En suma de vectores $a(\\phi+\\varphi)=a\\phi+a\\varphi$\n",
    "    * En suma de escalares $(a+b)\\phi=a\\phi+b\\phi$\n",
    "* Asociatividad: $(ab)\\phi=a(b\\phi)=ab\\phi$\n",
    "* Existencia del elemento neutro para todos los vectores: $1\\phi = \\phi$"
   ]
  },
  {
   "cell_type": "markdown",
   "metadata": {
    "slideshow": {
     "slide_type": "slide"
    }
   },
   "source": [
    "## Subespacio vectorial\n",
    "Es un subconjunto de elementos de un espacio vectorial ($\\psi$, $\\phi$, etc) \n",
    "\n",
    "* Satisface las propiedades de las operaciones por sí mismo.\n",
    "* Atención a las propiedades de clausura y existencia de vector simétrico"
   ]
  },
  {
   "cell_type": "markdown",
   "metadata": {
    "slideshow": {
     "slide_type": "slide"
    }
   },
   "source": [
    "## Combinación lineal\n",
    "Es una operación donde se conmbinan la suma de vectores y el producto por escalares\n",
    "\n",
    "$$\\psi=\\sum_{i=1}^{n}a_i\\phi_i$$\n",
    "\n",
    "El vector $\\psi$ es la combinación lineal **(CL)** de los $n$ vectores $\\{\\phi_1\\dots\\phi_n\\}$ con **coeficientes** escalares $\\{a_1 \\dots a_n\\}$"
   ]
  },
  {
   "cell_type": "markdown",
   "metadata": {
    "slideshow": {
     "slide_type": "slide"
    }
   },
   "source": [
    "## Dependencia lineal\n",
    "Un conjunto de vectores $\\{\\phi_n\\}$ es linealmente independiente **(LI)** si cualquier **CL** de la siguiente forma:\n",
    "$$O=\\sum_{i=1}^{n}a_i\\phi_i,$$\n",
    "solo es posible cuando todos los coeficientes son nulos\n",
    "$$a_1=0,\\dots a_n=0$$.\n",
    "\n",
    "En caso contrario el conjunto es linealmente dependiente **(LD)**"
   ]
  },
  {
   "cell_type": "markdown",
   "metadata": {
    "slideshow": {
     "slide_type": "subslide"
    }
   },
   "source": [
    "## Dependencia lineal\n",
    "Cuando un conjunto es LD siempre se puede despejar uno de los vectores con coeficiente no-nulo en función de los demás. Si $a_k\\neq 0$:\n",
    "$$\\phi_k=-(\\sum_{i=1}^{k-1}\\frac{a_i}{a_k}\\phi_i + \\sum_{i=k+1}^{n}\\frac{a_i}{a_k}\\phi_i)$$"
   ]
  },
  {
   "cell_type": "markdown",
   "metadata": {
    "slideshow": {
     "slide_type": "slide"
    }
   },
   "source": [
    "## Dimensión ($dim[V]$)\n",
    "\n",
    "* Es el número máximo de vectores que pueden formar parte de un conjunto LI en un espacio vectorial.\n",
    "* En caso que sea posible agregar vectores indefinidamente a un conjunto LI, el espacio tiene dimensión infinita.\n"
   ]
  },
  {
   "cell_type": "markdown",
   "metadata": {
    "slideshow": {
     "slide_type": "subslide"
    }
   },
   "source": [
    "## Base\n",
    "\n",
    "* Es cualquier conjunto de $dim[V]=N$ vectores LI.\n",
    "* Si se agrega un vector adicional $\\psi$, el conjunto es LD\n",
    "$$-a_0\\psi+\\sum_{i=1}^{N}a_i\\phi_i=O$$\n",
    "es posible para algún $a_0\\neq 0$. Por lo tanto\n",
    "$$\\psi=\\frac{1}{a_0}\\sum_{i=1}^{N}a_i\\phi_i$$"
   ]
  },
  {
   "cell_type": "markdown",
   "metadata": {
    "slideshow": {
     "slide_type": "fragment"
    }
   },
   "source": [
    "* Es un conjunto de vectores que puede expandir a todo el espacio.\n",
    "\n",
    "* Todo vector del espacio se puede escribir como CL de los vectores de la base."
   ]
  },
  {
   "cell_type": "markdown",
   "metadata": {
    "slideshow": {
     "slide_type": "slide"
    }
   },
   "source": [
    "## Suma directa de subespacios\n",
    "Se dice que $V$ es la suma directa de dos subespacios $S$ y $T$ si cualquier vector de V se escribe como una única suma de un elemento de cada subespacio.\n",
    "\n",
    "$$\\psi=\\phi_S+\\phi_T,$$\n",
    "donde $\\psi\\in V$, $\\phi_S\\in S$ y $\\phi_T\\in T$\n",
    "\n",
    "Se escibe:\n",
    "\n",
    "$$V=S\\oplus T$$"
   ]
  },
  {
   "cell_type": "markdown",
   "metadata": {
    "slideshow": {
     "slide_type": "fragment"
    }
   },
   "source": [
    "Las dimensiones se suman\n",
    "\n",
    "$$dim[V]=dim[S]+dim[T]$$\n",
    "\n",
    "Un ejemplo muy conocido (invitando al producto escalar a la conversación) se consigue al considerar la descomposición de vectores de $\\mathbb{R}^3$ en la suma de sus partes paralela y perpendicular a un elemento particular $\\psi$\n",
    "\n",
    "$$\\phi=\\phi_{\\parallel\\psi} + \\phi_{\\perp\\psi}$$"
   ]
  },
  {
   "cell_type": "markdown",
   "metadata": {
    "slideshow": {
     "slide_type": "subslide"
    }
   },
   "source": [
    "## Suma directa de subespacios\n",
    "En MC encontraremos sistemas donde es conveniente representar el espacio de Hilbert de un sistema como la suma directa de subespacios con ciertas propiedades."
   ]
  },
  {
   "cell_type": "markdown",
   "metadata": {
    "slideshow": {
     "slide_type": "fragment"
    }
   },
   "source": [
    "### Spoiler alert\n",
    "* ¿Alguien ha dicho espacio de Hilbert?\n",
    "* ¿Qué es eso?"
   ]
  },
  {
   "cell_type": "markdown",
   "metadata": {
    "slideshow": {
     "slide_type": "slide"
    }
   },
   "source": [
    "## Espacio Dual\n",
    "Se denomina espacio dual $V^{*}$ a $V$, al conjunto de todas las funciones lineales que toman un vector y producen un escalar.\n",
    "\n",
    "$$f(\\sum_{i=1}^{n}a_i\\psi_i)=\\sum_{i=1}^{n}a_if(\\psi_i)$$\n"
   ]
  },
  {
   "cell_type": "markdown",
   "metadata": {
    "slideshow": {
     "slide_type": "fragment"
    }
   },
   "source": [
    "* $V^{*}$ es un espacio vectorial **(Ejercicio)**\n",
    "    * La función lineal nula es cumple $f_O(\\psi)=0$ para cualquier $\\psi$\n",
    "* Si $dim[V]<\\infty$, entonces $dim[V]=dim[V^{*}]$"
   ]
  },
  {
   "cell_type": "markdown",
   "metadata": {
    "slideshow": {
     "slide_type": "slide"
    }
   },
   "source": [
    "## Base de $V^{*}$\n",
    "\n",
    "Tomemos una base $\\{\\phi_i; i=1\\dots N\\}$ y consideremos las siguientes $N$ funciones lineales:\n",
    "\n",
    "$$f_i(\\phi_j)=\\delta_{ij}$$\n",
    "\n",
    "* Las funciones $\\{f_i; i=1\\dots N\\}$ son LI **(Ejercicio)**"
   ]
  },
  {
   "cell_type": "markdown",
   "metadata": {
    "slideshow": {
     "slide_type": "fragment"
    }
   },
   "source": [
    "* Cualquier función lineal $g$, no nula, cumple:\n",
    "$$g()-\\sum_{i=1}^{n}\\alpha_if_i() = f_O(),$$\n",
    "con algunos coeficientes $\\alpha_i$ no nulos **(Ejercicio)**. Es decir,\n",
    "\n",
    "$$g()=\\sum_{i=1}^{n}\\alpha_if_i()$$\n",
    "\n",
    "$g$ es CL de las funciones $\\{f_i; i=1\\dots N\\}$"
   ]
  },
  {
   "cell_type": "markdown",
   "metadata": {
    "slideshow": {
     "slide_type": "slide"
    }
   },
   "source": [
    "## Producto tensorial [<sup>1</sup>](#fn)\n",
    "\n",
    "\n",
    "Si tenemos dos espacios vectoriales $V$ y $W$, sobre el mismo campo de escalares, podemos considerar el conjunto de todas las funciones bilineales $B(V,W)$ que toman vectores de ambos espacios y regresan escalares.\n",
    "\n",
    "$$f(\\psi,\\phi) \\longrightarrow \\mathbb{C}$$"
   ]
  },
  {
   "cell_type": "markdown",
   "metadata": {
    "slideshow": {
     "slide_type": "fragment"
    }
   },
   "source": [
    "* Lineal en el primer argumento (vector de $V$)\n",
    "\n",
    "$$f(a_1\\psi_1+a_2\\psi_2,\\phi) = a_1f(\\psi_1,\\phi) + a_2f(\\psi_2,\\phi)$$\n",
    "\n",
    "* Lineal en el segundo argumento (vector de $W$)\n",
    "\n",
    "$$f(\\psi,b_1\\phi_1+b_2\\phi_2) = b_1f(\\psi,\\phi_1) + b_2f(\\psi,\\phi_2)$$\n",
    "\n",
    "[<sup>1</sup>](#fn) <span id=\"fn\"> Ver: BIRKHOFF, Garrett; MACLANE, Saunders. A survey of modern algebra, AK Peters. 1998. </span>"
   ]
  },
  {
   "cell_type": "markdown",
   "metadata": {
    "slideshow": {
     "slide_type": "slide"
    }
   },
   "source": [
    "## Base del espacio $B(V,W)$\n",
    "\n",
    "* Se puede probar que $B(V,W)$ es un espacio vectorial, tiene dimensión $dim[V]dim[W]$ y construir una base\n",
    "\n",
    "Podemos construir una base para el espacio $B(V,W)$ a partir de las bases de los espacios duales $V^{*}$ ($f_i$) y $W^{*}$ ($g_i$). Al fin y al cabo se trata de funciones.\n",
    "\n",
    "Las funciones $F_{ij}\\equiv f_ig_j$ cumplen con la bilinealidad. Además,\n",
    "\n",
    "$$F_{ij}(\\phi_k^{V},\\phi_l^{W})=\\delta_{ik}\\delta_{jl}$$\n",
    "\n",
    "* Las funciones $F_{ij}$ son una base de $B(V,W)$"
   ]
  },
  {
   "cell_type": "markdown",
   "metadata": {
    "slideshow": {
     "slide_type": "fragment"
    }
   },
   "source": [
    "### Definiciones\n",
    "\n",
    "* $B(V,W)\\equiv V^{*}\\otimes W^{*}$ es el producto tensorial de los espacios $V^{*}$ y $W^{*}$\n",
    "* $V\\otimes W \\equiv (V^{*}\\otimes W^{*})^{*}$ es el producto tensorial de los espacios $V$ y $W$"
   ]
  },
  {
   "cell_type": "markdown",
   "metadata": {
    "slideshow": {
     "slide_type": "subslide"
    }
   },
   "source": [
    "## Producto tensorial\n",
    "En MC el concepto de producto tensorial es utilizado para construir el espacio de Hilbert de un sistema compuesto de subsistemas más simples.\n",
    "* Ejemplo: Espacio de Hibert de un sistema de dos partículas libres es el producto tensorial de los espacios de Hilbert de cada partícula"
   ]
  },
  {
   "cell_type": "markdown",
   "metadata": {
    "slideshow": {
     "slide_type": "fragment"
    }
   },
   "source": [
    "### Spoiler alert\n",
    "* ¿Alguien ha dicho espacio de Hilbert de nuevo?\n",
    "* ¿Qué es eso?"
   ]
  },
  {
   "cell_type": "markdown",
   "metadata": {
    "slideshow": {
     "slide_type": "slide"
    }
   },
   "source": [
    "## Producto escalar y Espacio de Hilbert\n",
    "\n",
    "Un espacio de Hilbert ($\\mathcal{H}$) es un espacio vectorial que posee las siguientes características adicionales:"
   ]
  },
  {
   "cell_type": "markdown",
   "metadata": {
    "slideshow": {
     "slide_type": "fragment"
    }
   },
   "source": [
    "* Tiene un producto escalar **(PE)** estrictamente positivo\n",
    "    * $(\\phi,\\psi) \\longrightarrow \\mathbb{C}$\n",
    "    * Estrictamente positivo:\n",
    "        * $(\\psi,\\psi) \\equiv ||\\psi||^{2}\\geq 0$\n",
    "        * $||\\psi||^{2} = 0 \\Leftrightarrow \\psi=O$\n",
    "    * Se define una función de distancia a partir del PE: $d(\\phi,\\psi) \\equiv ||(\\phi-\\psi)||$"
   ]
  },
  {
   "cell_type": "markdown",
   "metadata": {
    "slideshow": {
     "slide_type": "fragment"
    }
   },
   "source": [
    "* Es separable\n",
    "    * Se puede conseguir una sucesión de Cauchy en $\\mathcal{H}$ que tiene elementos arbitrariamente cerca de cualquier punto del espacio.\n",
    "        * Para todo $\\psi \\in \\mathcal{H}$ y $\\epsilon>0$ hay un $n$ tal que el elemento $\\psi_n$ de la sucesión cumple $d(\\psi_n,\\psi)<\\epsilon$"
   ]
  },
  {
   "cell_type": "markdown",
   "metadata": {
    "slideshow": {
     "slide_type": "fragment"
    }
   },
   "source": [
    "* Es completo\n",
    "    * Toda sucesión de Cauchy converge a un elemento del espacio $\\mathcal{H}$"
   ]
  },
  {
   "cell_type": "markdown",
   "metadata": {
    "slideshow": {
     "slide_type": "subslide"
    }
   },
   "source": [
    "### Otras propiedades del PE\n",
    "* $(\\phi,\\psi) = (\\psi,\\phi)^{*}$\n",
    "* Es lineal en el segundo argumento y antilineal en el primer argumento\n",
    "    * $(a_1\\psi_1+a_2\\psi_2,\\phi) = a_1^{*} (\\psi_1,\\phi) + a_2^{*} (\\psi_2,\\phi)$\n",
    "    * $(\\psi,b_1\\phi_1+b_2\\phi_2) = b_1 (\\psi,\\phi_1) + b_2 (\\psi,\\phi_2)$\n",
    "* Cumple la desigualdad de Schwarz\n",
    "    * $|(\\phi,\\psi)|^{2} \\leq (\\phi,\\phi)(\\psi,\\psi)$\n",
    "* La distancia cumple la desigualdad triangular\n",
    "    * $d(\\phi,\\psi) \\leq d(\\phi,\\psi') + d(\\psi',\\psi)$"
   ]
  },
  {
   "cell_type": "markdown",
   "metadata": {
    "slideshow": {
     "slide_type": "subslide"
    }
   },
   "source": [
    "Recordar: el producto escalar $(\\phi,\\psi)$ representa la proyección del vector $\\phi$ sobre el vector $\\psi$.\n",
    "\n",
    "\n",
    "\n",
    "| ![Titulo](imagenes/Dot_Product.png) |\n",
    "|:--:|\n",
    "| *Producto Escalar. <a href=\"https://commons.wikimedia.org/w/index.php?curid=3899178\">Imagen de dominio público</a>* |"
   ]
  },
  {
   "cell_type": "markdown",
   "metadata": {
    "slideshow": {
     "slide_type": "slide"
    }
   },
   "source": [
    "## Base ortogonal\n",
    "\n",
    "Recordemos ortogonalidad\n",
    "$$(\\phi,\\psi)=0 \\Leftrightarrow \\phi\\perp\\psi$$"
   ]
  },
  {
   "cell_type": "markdown",
   "metadata": {
    "slideshow": {
     "slide_type": "fragment"
    }
   },
   "source": [
    "* Siempre es posible construir una base de vectores ortogonales para un espacio $\\mathcal{H}$\n",
    "* Si además se escogen vectores unitarios, la base es llamada ortonormal\n",
    "$$\\{\\phi_i, i=1\\dots dim[\\mathcal{H}] / (\\phi_i,\\phi_j)=\\delta_{ij} \\}$$"
   ]
  },
  {
   "cell_type": "markdown",
   "metadata": {
    "slideshow": {
     "slide_type": "subslide"
    }
   },
   "source": [
    "## PE y espacio dual\n",
    "\n",
    "El PE provee una conexión natural entre los elementos de $\\mathcal{H}$ y su dual $\\mathcal{H}^{*}$\n",
    "\n",
    "* Consideramos $f_i \\equiv (\\phi_i,)$\n",
    "* $f_i(\\phi_j) = \\delta_{ij}$ (es un elemento del espacio dual)\n",
    "* En general $f_{\\psi} \\equiv (\\psi,) \\in \\mathcal{H}^{*}$"
   ]
  },
  {
   "cell_type": "markdown",
   "metadata": {
    "slideshow": {
     "slide_type": "slide"
    }
   },
   "source": [
    "## Ejemplos de espacios de Hilbert\n",
    "* $\\mathbb{R}^{n}$ es el conjunto de las n-tuplas de números reales\n",
    "* El conjunto de los desplazamientos en el sentido que se usa en la Mecánica Clásica\n",
    "$$(\\phi,\\psi)=\\sum_{i=1}^N\\phi_{i}^{*}\\psi_i$$\n",
    "* Espacio de las funciones $\\psi(x):\\mathbb{R} \\rightarrow \\mathbb{C}$ de cuadrado integrable\n",
    "$$\\int ||\\phi||^{2} dx \\le \\infty $$\n",
    "$$(\\phi,\\psi)=\\int \\phi^{*}(x) \\psi(x) dx$$"
   ]
  },
  {
   "cell_type": "markdown",
   "metadata": {
    "slideshow": {
     "slide_type": "slide"
    }
   },
   "source": [
    "## Notación de Dirac\n",
    "* Llamamos _ket_, $|\\psi>$, a los elementos de $\\mathcal{H}$\n",
    "* Llamamos _bra_, $<\\psi|$, a los elementos de $\\mathcal{H}^{*}$"
   ]
  },
  {
   "cell_type": "markdown",
   "metadata": {
    "slideshow": {
     "slide_type": "fragment"
    }
   },
   "source": [
    "Identificamos\n",
    "$$f_{\\psi} = (\\psi,) \\Longrightarrow <\\psi|$$\n",
    "\n",
    "$$(\\psi,\\phi) \\Longrightarrow <\\psi|\\phi> $$ es el _bra_ _ket_ = _braket_"
   ]
  },
  {
   "cell_type": "markdown",
   "metadata": {
    "slideshow": {
     "slide_type": "subslide"
    }
   },
   "source": [
    "## Propiedades\n",
    "$$<\\psi|\\phi> = <\\phi|\\psi>^{*}$$\n",
    "$$a|\\psi> + b|\\phi> \\longrightarrow a^{*}<\\psi| + b^{*}<\\phi|$$\n",
    "$$|a\\psi> = a|\\psi>$$\n",
    "$$<a\\psi| = a^{*}<\\psi|$$"
   ]
  },
  {
   "cell_type": "markdown",
   "metadata": {
    "slideshow": {
     "slide_type": "slide"
    }
   },
   "source": [
    "## Interpretación del PE en MC\n",
    "\n",
    "En MC el estado de una sistema es representado por un elemento de un $\\mathcal{H}$. Si el estado actual del sistema es $|\\psi>$ y $|\\phi>$ es un vector unitario que representa un estado que caracteriza el sistema luego de una medición, la cantidad $|<\\phi|\\psi>|^{2}$ es la probabilidad de obtener dicho resultado después de la medición. Se define la cantidad\n",
    "\n",
    "$$<\\phi|\\psi>,$$\n",
    "\n",
    "como la amplitud de transición $|\\psi> \\Longrightarrow|\\phi>$."
   ]
  },
  {
   "cell_type": "markdown",
   "metadata": {
    "slideshow": {
     "slide_type": "slide"
    }
   },
   "source": [
    "## El problema de los espacios de dimensión infinita\n",
    "\n",
    "* Consideramos el espacio de las funciones continuas, reales en el intervalo $(0,L)$ con $f(0)=f(L)=0$\n",
    "* Es un subconjunto de las funciones de cuadrado integrable\n",
    "* Es un $\\mathcal{H}$ con el producto usual"
   ]
  },
  {
   "cell_type": "markdown",
   "metadata": {
    "slideshow": {
     "slide_type": "fragment"
    }
   },
   "source": [
    "## Base\n",
    "\n",
    "Se usa la expresión en serie de Fourier (base ortogonal)\n",
    "\n",
    "$$f(x)=\\sum_{i=1}^{\\infty}f_i\\sin (\\frac{n\\pi x}{L})$$\n"
   ]
  },
  {
   "cell_type": "markdown",
   "metadata": {
    "slideshow": {
     "slide_type": "slide"
    }
   },
   "source": [
    "## Elemento del espacio dual\n",
    "\n",
    "¿Podemos construir una función lineal de este espacio en los números reales, tal que, $F_{y}[f]=f(y)$?\n",
    "\n",
    "La solución parte por considerar la siguiente expansión:\n",
    "\n",
    "$$\n",
    "F_y(x) = \\sum_{n=1}^{\\infty} \\sin{(\\frac{\\pi ny}{L})} \\sin{(\\frac{\\pi nx}{L})}\n",
    "$$\n",
    "\n",
    "Por la unicidad de la serie de Fourier:\n",
    "\n",
    "$$\n",
    "F_{y}[f] \\equiv \\int_{0}^{L}dx F_y(x)f(x) = f(y)\n",
    "$$"
   ]
  },
  {
   "cell_type": "markdown",
   "metadata": {
    "slideshow": {
     "slide_type": "slide"
    }
   },
   "source": [
    "## Elementos de norma infinita\n",
    "\n",
    "Consideramos\n",
    "\n",
    "$$<F_y|F_y> = \\sum_{n=0}^{\\infty} \\sin^{2} (\\frac{n\\pi y}{L}) = \\infty$$\n",
    "\n",
    "Revisar la definición de la Delta de Dirac $F_y(x)\\sim \\delta(x-y)$"
   ]
  },
  {
   "cell_type": "code",
   "execution_count": 1,
   "metadata": {},
   "outputs": [],
   "source": [
    "import matplotlib.pyplot as plt\n",
    "import numpy as np\n",
    "\n",
    "def F_yLn(x,y,L,n):\n",
    "    output=0.0\n",
    "    for i in range(n):\n",
    "        output=output+np.sin(np.pi*i*y/L) * np.sin(np.pi*i*x/L)\n",
    "    return output\n",
    "\n"
   ]
  },
  {
   "cell_type": "markdown",
   "metadata": {},
   "source": [
    "Definimos la sumatoria de la función $F_{y}(x)$ hasta un orden dado y un intevalo $L$. Es la función $F_{yLn}(x)$:"
   ]
  },
  {
   "cell_type": "code",
   "execution_count": 2,
   "metadata": {},
   "outputs": [],
   "source": [
    "L1=1.0\n",
    "y1=2*L1/5.0\n",
    "x1 = np.arange(0.0, 1.0, 0.004)"
   ]
  },
  {
   "cell_type": "markdown",
   "metadata": {
    "slideshow": {
     "slide_type": "slide"
    },
    "variables": {
     "L1": "1.0",
     "y1": "0.4"
    }
   },
   "source": [
    "Consideramos los siguientes valores para el tamaño del intervalo $(L=L1=$ {{L1}} $)$ y punto de prueba $y1=$ {{y1}}. El rango de graficación estará definido en $x1$"
   ]
  },
  {
   "cell_type": "markdown",
   "metadata": {
    "slideshow": {
     "slide_type": "subslide"
    }
   },
   "source": [
    "Graficamos la función \n",
    "\n",
    "$$\n",
    "F_{yLn}(x)|_{y=y1,L=L1,n=20}\n",
    "$$"
   ]
  },
  {
   "cell_type": "code",
   "execution_count": 3,
   "metadata": {},
   "outputs": [
    {
     "data": {
      "image/png": "[encoded data removed]",
      "text/plain": [
       "<Figure size 432x288 with 1 Axes>"
      ]
     },
     "metadata": {
      "needs_background": "light"
     },
     "output_type": "display_data"
    }
   ],
   "source": [
    "plt.plot(x1, F_yLn(x1,y1,L1,20), 'k')\n",
    "plt.axvline(x=y1, ymin=-1.0, ymax=1.0)\n",
    "plt.show()"
   ]
  }
 ],
 "metadata": {
  "celltoolbar": "Slideshow",
  "kernelspec": {
   "display_name": "Python 3",
   "language": "python",
   "name": "python3"
  },
  "language_info": {
   "codemirror_mode": {
    "name": "ipython",
    "version": 3
   },
   "file_extension": ".py",
   "mimetype": "text/x-python",
   "name": "python",
   "nbconvert_exporter": "python",
   "pygments_lexer": "ipython3",
   "version": "3.6.9"
  }
 },
 "nbformat": 4,
 "nbformat_minor": 2
}
