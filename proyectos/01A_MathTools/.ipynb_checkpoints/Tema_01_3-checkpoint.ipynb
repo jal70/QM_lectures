{
 "cells": [
  {
   "cell_type": "markdown",
   "metadata": {
    "slideshow": {
     "slide_type": "slide"
    }
   },
   "source": [
    "# Herramientas matemáticas\n",
    "\n",
    "## Operadores 2/2"
   ]
  },
  {
   "cell_type": "markdown",
   "metadata": {
    "slideshow": {
     "slide_type": "slide"
    }
   },
   "source": [
    "# Objetivos\n",
    "En esta sección estudiaremos los conceptos de\n",
    "\n",
    "* sss"
   ]
  },
  {
   "cell_type": "markdown",
   "metadata": {
    "slideshow": {
     "slide_type": "slide"
    }
   },
   "source": [
    "xxxx"
   ]
  },
  {
   "cell_type": "markdown",
   "metadata": {
    "slideshow": {
     "slide_type": "fragment"
    }
   },
   "source": [
    "### Referencia principal\n",
    "* ZETTILI, N. Quantum Mechanics Concepts and Applications: John Wiley & Sons Ltd UK. 2009. \n",
    "    * (Capítulo 2)"
   ]
  },
  {
   "cell_type": "markdown",
   "metadata": {
    "slideshow": {
     "slide_type": "slide"
    }
   },
   "source": [
    "# Funciones de operadores\n",
    "\n",
    "* Expresiones en serie de potencia\n",
    "\n",
    "$$F(\\hat{A}) = \\sum_{n=0}^{\\infty} a_n \\hat{A}^n$$\n",
    "\n",
    "* Caso especialmete importante: exponencial de un operador\n",
    "\n",
    "$$e^{a \\hat{A}} = \\sum_{n=0}^{\\infty} \\frac{a^n}{n!} \\hat{A}^n = \\hat{I} + a\\hat{A} + \\frac{a^2}{2!}\\hat{A}^2 + \\cdots$$"
   ]
  },
  {
   "cell_type": "markdown",
   "metadata": {
    "slideshow": {
     "slide_type": "slide"
    }
   },
   "source": [
    "## Ejemplo\n",
    "\n",
    "$$\\sigma_2 = \\left(\\matrix{0 & i \\\\ -i & 0}\\right)$$  \n",
    "<br/><br/>\n",
    "$$\\sigma_2^2 = \\hat{I}$$\n",
    "<br/><br/>\n",
    "$$e^{\\frac{i\\theta\\sigma_2}{2}} = \\hat{I} + \\frac{i\\theta\\sigma_2}{2} + (\\frac{i\\theta\\sigma_2}{2})^2 + \\cdots$$\n",
    "<br/><br/>"
   ]
  },
  {
   "cell_type": "markdown",
   "metadata": {
    "slideshow": {
     "slide_type": "fragment"
    }
   },
   "source": [
    "$$e^{\\frac{i\\theta\\sigma_2}{2}} = \\hat{I} + \\left(\\frac{\\theta}{2}\\right)i\\sigma_2 - \\left(\\frac{\\theta}{2}\\right)^2\\hat{I} + - \\left(\\frac{\\theta}{2}\\right)^3 i\\sigma_2 + \\left(\\frac{\\theta}{2}\\right)^4\\hat{I} \\cdots$$\n",
    "<br/><br/>\n",
    "$$e^{\\frac{i\\theta\\sigma_2}{2}} = \\hat{I}\\left(1 - \\left(\\frac{\\theta}{2}\\right)^2 + \\left(\\frac{\\theta}{2}\\right)^4 + \\cdots\\right)  + i\\sigma_2\\left(\\left(\\frac{\\theta}{2}\\right) - \\left(\\frac{\\theta}{2}\\right)^3 + \\cdots \\right)$$\n"
   ]
  },
  {
   "cell_type": "markdown",
   "metadata": {
    "slideshow": {
     "slide_type": "slide"
    }
   },
   "source": [
    "$$e^{\\frac{i\\theta\\sigma_2}{2}} = \\cos{(\\frac{\\theta}{2})}\\hat{I} + \\sin{(\\frac{\\theta}{2})}i\\sigma_2 $$\n",
    "<br/><br/>\n",
    "$$e^{\\frac{i\\theta\\sigma_2}{2}} =  \\left(\\matrix{\\cos{(\\frac{\\theta}{2})} & -\\sin{(\\frac{\\theta}{2})} \\\\ \\sin{(\\frac{\\theta}{2})} & \\cos{(\\frac{\\theta}{2})}}\\right)$$\n",
    "\n",
    "* **Ejercicio**\n",
    "\n",
    "$$e^{\\frac{\\omega\\sigma_2}{2}} = ?$$"
   ]
  },
  {
   "cell_type": "markdown",
   "metadata": {
    "slideshow": {
     "slide_type": "slide"
    }
   },
   "source": [
    "## Adjunto de una función\n",
    "<br/><br/>\n",
    "$$ F(\\hat{A})^{\\dagger} = F^{*}(\\hat{A}^{\\dagger}) $$\n",
    "<br/><br/>\n",
    "$$ \\left[e^{i\\hat{A}}\\right]^{\\dagger} = e^{-i\\hat{A}^{\\dagger}} $$\n",
    "<br/><br/>\n",
    "$$ \\left[e^{(a+ib)\\hat{A}}\\right]^{\\dagger} = e^{(a-ib)\\hat{A}^{\\dagger}} $$"
   ]
  },
  {
   "cell_type": "markdown",
   "metadata": {
    "slideshow": {
     "slide_type": "slide"
    }
   },
   "source": [
    "## Conmutadores de funciones\n",
    "<br/><br/>\n",
    "$$ \\left[\\hat{A},\\hat{B}\\right] = 0 \\Rightarrow \\left[\\hat{A},F(\\hat{B})\\right] = 0 $$\n",
    "<br/><br/>\n",
    "$$ \\left[\\hat{A},F(\\hat{A})\\right] = \\left[\\hat{A}^n,F(\\hat{A})\\right] = \\left[G(\\hat{A}),F(\\hat{A})\\right] = 0 $$\n",
    "\n",
    "* En general\n",
    "\n",
    "$$ e^{\\hat{A} + \\hat{B}} \\neq e^{\\hat{A}}e^{\\hat{B}} $$\n",
    "<br/><br/>\n",
    "* Fórmula de Glauber\n",
    "\n",
    "$$ \\left[\\hat{A},\\left[\\hat{A},\\hat{B}\\right]\\right] = \\left[\\hat{B},\\left[\\hat{A},\\hat{B}\\right]\\right] = 0 \\Rightarrow e^{\\hat{A}}e^{\\hat{B}} = e^{\\hat{A} + \\hat{B} + \\frac{1}{2}\\left[\\hat{A},\\hat{B}\\right]}   $$"
   ]
  },
  {
   "cell_type": "markdown",
   "metadata": {
    "slideshow": {
     "slide_type": "slide"
    }
   },
   "source": [
    "# Inversa de un operador\n",
    "* El operador $\\hat{A}$ es invertible si exsite otro operador $\\hat{A}^{-1}$ tal que\n",
    "\n",
    "$$\\hat{A}^{-1}\\hat{A} = \\hat{A}\\hat{A}^{-1} = \\hat{I}$$\n",
    "\n",
    "## Propiedades\n",
    "<br/><br/>\n",
    "$$ (\\hat{A}\\hat{B}\\hat{C})^{-1} = (\\hat{C}\\hat{B}\\hat{A}) $$\n",
    "<br/><br/>\n",
    "$$ (\\hat{A}^{n})^{-1} = (\\hat{A}^{-1})^{n} $$"
   ]
  },
  {
   "cell_type": "markdown",
   "metadata": {
    "slideshow": {
     "slide_type": "slide"
    }
   },
   "source": [
    "# Operadores unitarios\n",
    "\n",
    "* Un operador unitario cumple:\n",
    "\n",
    "$$ \\hat{U}^{-1} = \\hat{U}^{\\dagger} $$\n",
    "\n",
    "* El producto de operadores unitarios también lo es\n",
    "\n",
    "$$ \\left[\\hat{U}_1\\hat{U}_2\\right]^{-1} = \\hat{U}_2^{-1}\\hat{U}_1^{-1} = \\hat{U}_2^{\\dagger}\\hat{U}_1^{\\dagger} = \\left[\\hat{U}_1\\hat{U}_2\\right]^{\\dagger} $$\n",
    "\n",
    "* Si $\\hat{G}$ es hermítico, $e^{ix\\hat{G}}$ es unitario. **Ejercicio**\n",
    "\n",
    "* Si $|\\psi'> = \\hat{U}|\\psi>$, $<\\psi'|\\psi'> = <\\psi|\\psi> $ es unitario. **Ejercicio**"
   ]
  }
 ],
 "metadata": {
  "celltoolbar": "Slideshow",
  "kernelspec": {
   "display_name": "Python 3",
   "language": "python",
   "name": "python3"
  },
  "language_info": {
   "codemirror_mode": {
    "name": "ipython",
    "version": 3
   },
   "file_extension": ".py",
   "mimetype": "text/x-python",
   "name": "python",
   "nbconvert_exporter": "python",
   "pygments_lexer": "ipython3",
   "version": "3.5.2"
  }
 },
 "nbformat": 4,
 "nbformat_minor": 4
}
