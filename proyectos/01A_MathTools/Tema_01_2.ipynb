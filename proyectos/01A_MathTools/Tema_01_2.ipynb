{
 "cells": [
  {
   "cell_type": "markdown",
   "metadata": {
    "slideshow": {
     "slide_type": "slide"
    }
   },
   "source": [
    "# Herramientas matemáticas\n",
    "\n",
    "## Operadores 1/2"
   ]
  },
  {
   "cell_type": "markdown",
   "metadata": {
    "slideshow": {
     "slide_type": "slide"
    }
   },
   "source": [
    "# Objetivos\n",
    "En esta sección estudiaremos los conceptos de"
   ]
  },
  {
   "cell_type": "markdown",
   "metadata": {
    "slideshow": {
     "slide_type": "slide"
    }
   },
   "source": [
    "competencias ..."
   ]
  },
  {
   "cell_type": "markdown",
   "metadata": {
    "slideshow": {
     "slide_type": "fragment"
    }
   },
   "source": [
    "### Referencia principal\n",
    "* ZETTILI, N. Quantum Mechanics Concepts and Applications: John Wiley & Sons Ltd UK. 2009. \n",
    "    * (Capítulo 2)"
   ]
  },
  {
   "cell_type": "markdown",
   "metadata": {
    "slideshow": {
     "slide_type": "slide"
    }
   },
   "source": [
    "## Operador\n",
    "En el contexto que nos atañe un operador es una regla que define una función lineal de un espacio vectorial en otro.\n",
    "\n",
    "$$\\hat{O}:V\\longrightarrow V'$$"
   ]
  },
  {
   "cell_type": "markdown",
   "metadata": {
    "slideshow": {
     "slide_type": "fragment"
    }
   },
   "source": [
    "$$\\hat{A}(a|\\psi > + b|\\phi >) = a\\hat{A}|\\psi > + b\\hat{A}|\\phi >$$ "
   ]
  },
  {
   "cell_type": "markdown",
   "metadata": {
    "slideshow": {
     "slide_type": "fragment"
    }
   },
   "source": [
    "### Hay una acción automática sobre el espacio dual\n",
    "\n",
    "$$(<\\psi|\\hat{A})|\\phi> \\equiv <\\psi|(\\hat{A}|\\phi>)$$\n",
    "\n",
    "$$<\\psi|\\hat{A} \\in V'^{*}$$"
   ]
  },
  {
   "cell_type": "markdown",
   "metadata": {
    "slideshow": {
     "slide_type": "slide"
    }
   },
   "source": [
    "## Ejemplos de operadores 1/2\n",
    "\n",
    "### Identidad\n",
    "$$\\hat{I}|\\phi > = |\\phi >$$\n",
    "\n",
    "### Dados un ket y un bra arbitrarios $|\\phi_1>$ y $<\\phi_2|$\n",
    "$$\\hat{A}_{\\phi_1,\\phi_2} |\\psi> = (|\\phi_1><\\phi_2|)~ |\\psi> = <\\phi_2|\\psi>|\\phi_1>$$\n",
    "\n",
    "### Gradiente (base x)\n",
    "$$\\vec{\\nabla} \\psi(\\vec{r}) = \\partial_x \\psi \\boldsymbol{\\hat{e}_x} + \\partial_y \\psi \\boldsymbol{\\hat{e}_y} + \\partial_z \\psi \\boldsymbol{\\hat{e}_z}$$\n",
    "\n",
    "### Posición\n",
    "\n",
    "$$\\vec{R} \\psi(\\vec{r}) = ( x \\boldsymbol{\\hat{e}_x} + y \\boldsymbol{\\hat{e}_y} + z \\boldsymbol{\\hat{e}_z}) \\psi(\\vec{r})$$\n"
   ]
  },
  {
   "cell_type": "markdown",
   "metadata": {
    "slideshow": {
     "slide_type": "slide"
    }
   },
   "source": [
    "## Ejemplos de operadores 2/2\n",
    "\n",
    "\n",
    "### Momentum\n",
    "\n",
    "$$\\vec{P} \\psi(\\vec{r}) = -i\\hbar \\vec{\\nabla} \\psi$$\n",
    "\n",
    "### Laplaciano\n",
    "\n",
    "$$\\nabla^2 \\psi = (\\partial_{x}^{2} + \\partial_{y}^{2} + \\partial_{z}^{2}) \\psi$$\n",
    "\n",
    "### Paridad\n",
    "\n",
    "$$P \\psi(\\vec{r}) = \\psi(-\\vec{r})$$"
   ]
  },
  {
   "cell_type": "markdown",
   "metadata": {
    "slideshow": {
     "slide_type": "slide"
    }
   },
   "source": [
    "## Operaciones entre operadores\n",
    "Por comodidad, restringiremos la discusión al caso de $\\hat{O}:V\\longrightarrow V$ ($V'=V$)\n",
    "\n",
    "* Suma\n",
    "$$(\\hat{A} + \\hat{B})|\\psi> = \\hat{A}|\\psi> + \\hat{B}|\\psi>$$\n",
    "* Producto\n",
    "$$(\\hat{A}\\hat{B})|\\psi> = \\hat{A}(\\hat{B}|\\psi>)$$\n",
    "    * Conmutador:\n",
    "    $$\\hat{A}\\hat{B}=\\hat{B}\\hat{A}+[\\hat{A},\\hat{B}]$$\n",
    "    En general: $$[\\hat{A},\\hat{B}] \\neq 0$$"
   ]
  },
  {
   "cell_type": "markdown",
   "metadata": {
    "slideshow": {
     "slide_type": "slide"
    }
   },
   "source": [
    "## Asociatividad del producto de operadores\n",
    "La asociatividad del producto de operadores permite que las siguientes expresiones tengan sentido\n",
    "* $(\\hat{A}\\hat{B})\\hat{C} = \\hat{A}(\\hat{B}\\hat{C}) = \\hat{A}\\hat{B}\\hat{C}$\n",
    "* $(\\hat{A}\\hat{B})|\\psi> = \\hat{A}(\\hat{B}|\\psi>) = \\hat{A}\\hat{B}|\\psi>$\n",
    "* $\\hat{A}^m\\hat{A}^n = \\hat{A}^{m+n}$\n",
    "* $(<\\psi|\\hat{A})|\\phi> = <\\psi|(\\hat{A}|\\phi>) = <\\psi|\\hat{A}|\\phi>$"
   ]
  },
  {
   "cell_type": "markdown",
   "metadata": {
    "slideshow": {
     "slide_type": "fragment"
    }
   },
   "source": [
    "### Valor esperado\n",
    "\n",
    "* Se define el valor esperado de un operador con respecto a un estado de $\\mathcal{H}$. \n",
    "* Es un escalar, construído a partir de un estado del espacio y un operador.\n",
    "* Importante en la predicción del valor medio de una medición (ver postulados)\n",
    "\n",
    "$$<\\hat{A}> = \\frac{<\\psi|\\hat{A}|\\psi>}{<\\psi|\\psi>}$$"
   ]
  },
  {
   "cell_type": "markdown",
   "metadata": {
    "slideshow": {
     "slide_type": "slide"
    }
   },
   "source": [
    "## Componentes de un operador\n",
    "\n"
   ]
  }
 ],
 "metadata": {
  "celltoolbar": "Slideshow",
  "kernelspec": {
   "display_name": "Python 3",
   "language": "python",
   "name": "python3"
  },
  "language_info": {
   "codemirror_mode": {
    "name": "ipython",
    "version": 3
   },
   "file_extension": ".py",
   "mimetype": "text/x-python",
   "name": "python",
   "nbconvert_exporter": "python",
   "pygments_lexer": "ipython3",
   "version": "3.6.9"
  }
 },
 "nbformat": 4,
 "nbformat_minor": 4
}
