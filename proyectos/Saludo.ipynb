{
 "cells": [
  {
   "cell_type": "markdown",
   "metadata": {
    "slideshow": {
     "slide_type": "slide"
    }
   },
   "source": [
    "# Bienvenida\n",
    "## Mecánica Cuántica"
   ]
  },
  {
   "cell_type": "markdown",
   "metadata": {
    "slideshow": {
     "slide_type": "slide"
    }
   },
   "source": [
    "# Fechas importantes\n",
    "http://conest.ciens.ucv.ve/webapp/control_estudios/descargar_planilla?documento=11\n",
    "* Inicio del curso: 2020-10-01\n",
    "* Fin del curso (calificación): 2020-12-11\n",
    "* Retiro de la asignatura: \n",
    "    * Antes de evaluar el 75% de la materia (~ 2020-11-15)\n",
    "    * Directamente con el coordinador de la materia"
   ]
  },
  {
   "cell_type": "markdown",
   "metadata": {
    "slideshow": {
     "slide_type": "slide"
    }
   },
   "source": [
    "# Profesores\n",
    "El curso se tiene tres voces:\n",
    "* José Antonio López\n",
    "* Eudomar Henríquez\n",
    "* Nelson Bolívar"
   ]
  },
  {
   "cell_type": "markdown",
   "metadata": {
    "slideshow": {
     "slide_type": "fragment"
    }
   },
   "source": [
    "## Metodología\n",
    "* Proyectos guiados: Puede haber videos y láminas de resumen a cargo de los profesores\n",
    "    * Cada profesor hará llegar el material: repositorios, lista de correos, etc.\n",
    "    * Esta presentación y el resto del material del tema 2: https://github.com/jal70/MC_2020\n",
    "* Lecturas de la bibliografía recomendada y problemas resueltos\n",
    "* Resolución de problemas asignados\n",
    "\n"
   ]
  },
  {
   "cell_type": "markdown",
   "metadata": {
    "slideshow": {
     "slide_type": "subslide"
    }
   },
   "source": [
    "## Herramientas\n",
    "* Lista de correo: https://groups.google.com/g/estudiantesmecanicacuanticafisicaucv_2020\n",
    "    * Recibirán información y pueden hacer consulta de la materia (todos preguntan y todos responden)\n",
    "* Canal de telegram: https://t.me/joinchat/AAAAAEbfOFouWlVVJPL07w\n",
    "    * Información actualizada y material del curso\n",
    "    * Recomendación: unirse al grupo de conversación asociado al canal (ConversamosMC_2020)\n",
    "* Google classroom: https://classroom.google.com/c/MTQ5OTQzMjMyNTky?cjc=pbqmngb\n",
    "    * Asignaciones\n",
    "    * Foro\n",
    "    \n",
    "![Herramientas](tools.png)"
   ]
  },
  {
   "cell_type": "markdown",
   "metadata": {
    "slideshow": {
     "slide_type": "slide"
    }
   },
   "source": [
    "# Evaluación\n",
    "* Tareas asignadas que serán entregadas en diferentes formatos (60%)\n",
    "    * Se van asignado por tema. Frecuencia ~ semana$^{-1}$\n",
    "* Reunión sincrónica para defender la solución a los proyectos asignados (40%)\n",
    "    * (3 o 4 reuniones en fechas a determinar)\n",
    "* Premios especiales por participación en las actividades comunitarias: (foros)"
   ]
  },
  {
   "cell_type": "markdown",
   "metadata": {
    "slideshow": {
     "slide_type": "slide"
    }
   },
   "source": [
    "# Recomendaciones generales\n",
    "* Ayude a sus compañeros. Queremos que esta sea una comunidad de aprendizaje efectiva.\n",
    "* Sea respetuoso hacia el prójimo en todos los espacios y con el trabajo que comparten.\n",
    "    * La amabilidad debe ser la norma.\n",
    "    * La crítica debe ser constructiva y oportuna.\n",
    "* Trabaje individualmente:\n",
    "    * No plagie.\n",
    "    * No presente un trabajo que no puede defender.\n",
    "    * Siempre rinda crédito a las fuentes de información."
   ]
  },
  {
   "cell_type": "markdown",
   "metadata": {
    "slideshow": {
     "slide_type": "slide"
    }
   },
   "source": [
    "# !Exito!"
   ]
  }
 ],
 "metadata": {
  "celltoolbar": "Slideshow",
  "kernelspec": {
   "display_name": "Python 3",
   "language": "python",
   "name": "python3"
  },
  "language_info": {
   "codemirror_mode": {
    "name": "ipython",
    "version": 3
   },
   "file_extension": ".py",
   "mimetype": "text/x-python",
   "name": "python",
   "nbconvert_exporter": "python",
   "pygments_lexer": "ipython3",
   "version": "3.7.3"
  }
 },
 "nbformat": 4,
 "nbformat_minor": 2
}
