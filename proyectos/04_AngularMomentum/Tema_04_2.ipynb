{
 "cells": [
  {
   "cell_type": "markdown",
   "metadata": {
    "slideshow": {
     "slide_type": "slide"
    }
   },
   "source": [
    "# Momento Angular\n",
    "\n",
    "## Detalles espín y momento angular orbital"
   ]
  },
  {
   "cell_type": "markdown",
   "metadata": {
    "slideshow": {
     "slide_type": "slide"
    }
   },
   "source": [
    "# Objetivos\n",
    "En esta sección estudiaremos los conceptos de\n",
    "\n",
    "*  bla bla"
   ]
  },
  {
   "cell_type": "markdown",
   "metadata": {
    "slideshow": {
     "slide_type": "slide"
    }
   },
   "source": [
    "Al finalizar esta sección los estudiantes deben **bla bla**"
   ]
  },
  {
   "cell_type": "markdown",
   "metadata": {
    "slideshow": {
     "slide_type": "fragment"
    }
   },
   "source": [
    "### Referencia principal\n",
    "* ZETTILI, N. Quantum Mechanics Concepts and Applications: John Wiley & Sons Ltd UK. 2009. \n",
    "    * (Capítulo 5)"
   ]
  },
  {
   "cell_type": "markdown",
   "metadata": {
    "slideshow": {
     "slide_type": "slide"
    }
   },
   "source": [
    "# Calcular momento angular orbital \n",
    "\n",
    "$$\\hat{L}^2 = \\sum_{ijklm}\\epsilon_{ijk}\\hat{R}_j\\hat{P}_k \\epsilon_{ilm}\\hat{R}_l\\hat{P}_m = \\sum_{ijklm}(\\delta_{jl}\\delta_{km}-\\delta_{jm}\\delta_{kl})\\hat{R}_j\\hat{P}_k\\hat{R}_l\\hat{P}_m$$\n",
    "\n",
    "$$= \\sum_{ijklm}(\\delta_{jl}\\delta_{km}-\\delta_{jm}\\delta_{kl})(\\hat{R}_j\\hat{R}_l\\hat{P}_k\\hat{P}_m-i\\hbar \\delta_{kl}\\hat{R}_i\\hat{P}_k)$$\n",
    "\n",
    "$$= \\hat{R}^2\\hat{P}^2 - \\sum_{i}\\hat{R}_i (\\hat{\\vec{R}}\\cdot\\hat{\\vec{P}}) \\hat{P}_i + 2i\\hbar\\hat{\\vec{R}}\\cdot\\hat{\\vec{P}}$$"
   ]
  },
  {
   "cell_type": "markdown",
   "metadata": {
    "slideshow": {
     "slide_type": "slide"
    }
   },
   "source": [
    "## Operador momento angular en representación de posición\n",
    "\n",
    "* Si L es constante de movimiento, entonces hay simetría\n",
    "* Usemos coordenadas esféricas\n",
    "\n",
    "$$\\hat{\\vec{R}} = \\hat{e}_rr$$\n",
    "\n",
    "$$\\hat{\\vec{P}} = -i\\hbar \\left(\\hat{e}_r \\partial_r + \\frac{\\hat{e}_{\\theta}}{r} \\partial_{\\theta} + \\frac{\\hat{e}_{\\varphi}}{r\\sin{\\theta}} \\partial_{\\varphi}\\right)$$\n",
    "\n",
    "$$\\hat{L}^2 = \\hat{R}^2\\hat{P}^2 - \\sum_{i}\\hat{R}_i (\\hat{\\vec{R}}\\cdot\\hat{\\vec{P}}) \\hat{P}_i + 2i\\hbar\\hat{\\vec{R}}\\cdot\\hat{\\vec{P}} $$\n",
    "\n",
    "$$ = r^2  \\left(-\\hbar^2 \\nabla^2 \\right) + \\hbar^2(r^2 \\partial_r^2 + 2r\\partial_r)$$\n",
    "\n",
    "$$= -\\hbar^2 \\left[\\frac{1}{\\sin{\\theta}}\\partial_{\\theta}\\left(\\sin{\\theta}\\partial_{\\theta}\\right) + \\frac{1}{\\sin^2{\\theta}}\\partial_{\\varphi}^2\\right]$$"
   ]
  },
  {
   "cell_type": "markdown",
   "metadata": {
    "slideshow": {
     "slide_type": "fragment"
    }
   },
   "source": [
    "* Importante:\n",
    "    * Se toma el orden estándar de la definición en Mecánica Clásica.\n",
    "    * Recordar que los observables en MC pueden depender de productos de operadores que no conmutan y el orden que se da en la definición no es indiferente.\n",
    "    * $\\hat{\\vec{L}}$ es un conjunto de tres operadores hermíticos ($\\hat{L}^2$ también es hermítico) **(Ejercicio)**\n"
   ]
  },
  {
   "cell_type": "markdown",
   "metadata": {
    "slideshow": {
     "slide_type": "slide"
    }
   },
   "source": [
    "## Componentes del momento angular\n",
    "\n",
    "Podemos escribir $\\hat{\\vec{L}}$ en componentes usando la definición del producto vectorial (o nuestra mejor amiga, la densidad de Levi-Civita)\n",
    "\n",
    "$$\\epsilon_{123}=\\epsilon_{312}=\\epsilon_{231}=1$$\n",
    "$$\\epsilon_{213}=\\epsilon_{132}=\\epsilon_{321}=-1$$\n",
    "\n",
    "![componentes](figuras/componentes_L.png)"
   ]
  },
  {
   "cell_type": "markdown",
   "metadata": {
    "slideshow": {
     "slide_type": "slide"
    }
   },
   "source": [
    "## Relaciones de conmutación\n",
    "\n",
    "* Conmutadores de $\\hat{R}_i$ con $\\hat{L}_i$\n",
    "\n",
    "![componentes](figuras/conmutacion_rl.png)\n",
    "\n",
    "* Conmutadores de $\\hat{P}_i$ con $\\hat{L}_i$ **(Ejercicio)**\n",
    "$$\\left[\\hat{P}_i,\\hat{L}_j\\right] = i\\hbar \\sum_k \\epsilon_{ijk}\\hat{P}_k$$"
   ]
  },
  {
   "cell_type": "markdown",
   "metadata": {
    "slideshow": {
     "slide_type": "slide"
    }
   },
   "source": [
    "## Conmutadores de $L,L$\n",
    "\n",
    "![componentes](figuras/conmutacion_LL_1.png)\n"
   ]
  },
  {
   "cell_type": "markdown",
   "metadata": {
    "slideshow": {
     "slide_type": "fragment"
    }
   },
   "source": [
    "Recordar las propiedades de la contracción de $\\epsilon_{ijk}$\n",
    "\n",
    "![componentes](figuras/conmutacion_LL_1_5.png)"
   ]
  },
  {
   "cell_type": "markdown",
   "metadata": {
    "slideshow": {
     "slide_type": "subslide"
    }
   },
   "source": [
    "## Conmutadores de $L,L$\n",
    "\n",
    "![componentes](figuras/conmutacion_LL_2.png)"
   ]
  },
  {
   "cell_type": "markdown",
   "metadata": {
    "slideshow": {
     "slide_type": "slide"
    }
   },
   "source": [
    "# Resumen: operadores vectoriales\n",
    "\n",
    "* Los operadores $\\hat{\\vec{R}}$, $\\hat{\\vec{P}}$ y $\\hat{\\vec{L}}$ son vectoriales\n",
    "    * Un operador vectorial, $\\hat{\\vec{V}}$ cumple la siguiente relación de conmutación con $\\hat{\\vec{L}}$:\n",
    "    \n",
    "$$\\left[\\hat{V}_i,\\hat{L}_j\\right] = i\\hbar \\sum_k \\epsilon_{ijk}\\hat{V}_k$$\n",
    "\n",
    "* En componentes\n",
    "\n",
    "$$\\left[\\hat{V}_1,\\hat{L}_2\\right] = i\\hbar\\hat{V}_3$$\n",
    "\n",
    "$$\\left[\\hat{V}_1,\\hat{L}_3\\right] = -i\\hbar\\hat{V}_2$$\n",
    "\n",
    "$$\\left[\\hat{V}_3,\\hat{L}_1\\right] = i\\hbar\\hat{V}_2$$\n",
    "\n",
    "$$\\left[\\hat{V}_3,\\hat{L}_2\\right] = -i\\hbar\\hat{V}_1$$\n",
    "\n",
    "$$\\left[\\hat{V}_2,\\hat{L}_3\\right] = i\\hbar\\hat{V}_1$$\n",
    "\n",
    "$$\\left[\\hat{V}_2,\\hat{L}_1\\right] = -i\\hbar\\hat{V}_3$$"
   ]
  },
  {
   "cell_type": "markdown",
   "metadata": {
    "slideshow": {
     "slide_type": "subslide"
    }
   },
   "source": [
    "## Operadores escalares\n",
    "* Los operadores escalares conmuntan con el momento angular\n",
    "\n",
    "$$\\left[\\hat{S},\\hat{\\vec{L}}\\right] = 0$$\n",
    "\n",
    "* Ejemplo: \n",
    "\n",
    "$$\\hat{L}^2 \\equiv \\hat{L}^2_1 + \\hat{L}^2_2 + \\hat{L}^2_3$$\n",
    "\n",
    "![componentes](figuras/componentes_L2.png)"
   ]
  },
  {
   "cell_type": "markdown",
   "metadata": {
    "slideshow": {
     "slide_type": "slide"
    }
   },
   "source": [
    "## Operador general de momento angular\n",
    "\n",
    "* Un operador general de momento angular ($\\hat{\\vec{J}}$) debe cumplir las reglas de conmutación que hemos encontrado para $\\hat{\\vec{L}}$\n",
    "\n",
    "$$\\left[\\hat{J}_i,\\hat{J}_j\\right] = i\\hbar \\sum_k \\epsilon_{ijk}\\hat{J}_k$$\n",
    "\n",
    "$$\\left[\\hat{J}^2,\\hat{J}_i\\right] = 0$$\n",
    "\n",
    "\n",
    "* $\\hat{\\vec{L}}$ es el momento angular orbital, un caso especial.\n",
    "* Otro caso es el momento angular intrínseco del electrón $\\hat{\\vec{S}}$\n",
    "\n"
   ]
  },
  {
   "cell_type": "markdown",
   "metadata": {
    "slideshow": {
     "slide_type": "slide"
    }
   },
   "source": [
    "## Autovalores del momento angular\n",
    "\n",
    "* No es posible diagonalizar de forma simultánea las tres componentes del momento angular.\n",
    "* Se puede diagonalizar una de las componentes (genéricamente $\\hat{J}_3$) en forma simultánea con el escalar $\\hat {J}^2$.\n",
    "* Definimos provisionalmente los autovalores de $\\hat {J}^2$ y $\\hat{J}_3$, $\\hbar^2\\alpha$ y $\\hbar\\beta$ respectivamente. \n",
    "    * $\\alpha$ y $\\beta$ son adimensionales.\n",
    "* Los autovectores $\\left|\\alpha.\\beta\\right>$ son ortonormales\n",
    "\n"
   ]
  },
  {
   "cell_type": "markdown",
   "metadata": {
    "slideshow": {
     "slide_type": "slide"
    }
   },
   "source": [
    "## Autovalores del momento angular\n",
    "\n",
    "![componentes](figuras/etiquetas_j.png)"
   ]
  },
  {
   "cell_type": "markdown",
   "metadata": {
    "slideshow": {
     "slide_type": "slide"
    }
   },
   "source": [
    "## Operadores escalera\n",
    "* Recordamos el programa usado para construir el espectro del oscilador armónico\n",
    "\n",
    "![componentes](figuras/escalera_J.png)"
   ]
  },
  {
   "cell_type": "markdown",
   "metadata": {
    "slideshow": {
     "slide_type": "slide"
    }
   },
   "source": [
    "## Otra identidad útil\n",
    "![componentes](figuras/producto_escalera.png)"
   ]
  },
  {
   "cell_type": "markdown",
   "metadata": {
    "slideshow": {
     "slide_type": "slide"
    }
   },
   "source": [
    "## Operadores en acción\n",
    "\n",
    "* $\\hat{J}_{\\pm}$ suben y bajan el autovalor de $\\hat{J}_3$ en una unidad de $\\hbar$\n",
    "    * El autovalor de $\\hat{J}^2$ no cambia\n",
    "    \n",
    "![componentes](figuras/subiendo_bajando_j3.png)"
   ]
  },
  {
   "cell_type": "markdown",
   "metadata": {
    "slideshow": {
     "slide_type": "slide"
    }
   },
   "source": [
    "## Límites para $\\beta$\n",
    "\n",
    "* El operador $\\hat{J}^2-\\hat{J}_3^2 = \\hat{J}_1^2 + \\hat{J}_2^2$ es positivo **(Ejercicio)**\n",
    "\n",
    "$$0 \\leq \\left<\\alpha,\\beta\\right|\\hat{J}^2-\\hat{J}_3^2\\left|\\alpha,\\beta\\right> = \\hbar^2(\\alpha-\\beta^2)$$\n",
    "\n",
    "$$\\alpha\\geq\\beta^2$$"
   ]
  },
  {
   "cell_type": "markdown",
   "metadata": {
    "slideshow": {
     "slide_type": "subslide"
    }
   },
   "source": [
    "## Límites para $\\beta$\n",
    "\n",
    "* Existe un valor límite $\\beta_{max}$, tal que no puede aumentar más, al actuar el operador $\\hat{J}_+$.\n",
    "\n",
    "$$\\hat{J}_+\\left|\\alpha,\\beta_{max}\\right> = 0$$\n",
    "\n",
    "![componentes](figuras/beta_sup.png)"
   ]
  },
  {
   "cell_type": "markdown",
   "metadata": {
    "slideshow": {
     "slide_type": "slide"
    }
   },
   "source": [
    "## Límites para $\\beta$\n",
    "\n",
    "* También hay un límite inferior $\\beta_{min}$, tal que no puede disminuir más, al actuar el operador $\\hat{J}_-$.\n",
    "\n",
    "$$\\hat{J}_-\\left|\\alpha,\\beta_{min}\\right> = 0$$\n",
    "\n",
    "![componentes](figuras/beta_inf.png)"
   ]
  },
  {
   "cell_type": "markdown",
   "metadata": {
    "slideshow": {
     "slide_type": "slide"
    }
   },
   "source": [
    "* Podemos observar $\\beta_{max} = -\\beta_{min}$\n",
    "\n",
    "* La acción de $\\hat{J}_{\\pm}$ cambia el valor de $\\beta$ en una unidad. Entonces $\\beta_{max} = \\beta_{min} + n$.\n",
    "\n",
    "    * $n$ es un número entero\n",
    "    * $\\beta_{max} = \\frac{n}{2}$, el valor máximo es entero o semi-entero.\n",
    "    * Redefinimos $j=\\beta_{max} = \\frac{n}{2}$\n",
    "    * $\\alpha = j(j+1)$\n",
    "\n",
    "$$\\left|\\alpha,\\beta\\right>  \\longrightarrow \\left|j,m\\right> $$\n",
    "    \n",
    "$$-j \\leq m \\leq j$$\n",
    "\n",
    "$$ \\hat{J}^2 \\left|j,m\\right> = \\hbar^2 j(j+1)\\left|j,m\\right> $$\n",
    "\n",
    "$$ \\hat{J}_3 \\left|j,m\\right> = \\hbar m\\left|j,m\\right> $$\n",
    "\n",
    "$$ \\left<j,m|j',m'\\right> = \\delta_{j j'}\\delta_{m m'} $$"
   ]
  },
  {
   "cell_type": "markdown",
   "metadata": {
    "slideshow": {
     "slide_type": "slide"
    }
   },
   "source": [
    "## Acción de $\\hat{J}_{\\pm}$\n",
    "\n",
    "* Hemos descubierto que $\\hat{J}_{\\pm}\\left|j,m\\right> = C_{j,m}^{\\pm}\\left|j,m \\pm 1\\right> \\sim \\left|j,m \\pm 1\\right>$\n",
    "\n",
    "* Nos concentraremos en hallar la constante de proporcionalidad\n",
    "\n",
    "$$\\hat{J}_{\\pm} \\left|j,m\\right> = \\hbar \\sqrt{j(j+1) - m(m \\pm 1)} \\left|j,m \\pm 1\\right>$$\n",
    "\n",
    "![componentes](figuras/normalizacion.png)"
   ]
  },
  {
   "cell_type": "markdown",
   "metadata": {
    "slideshow": {
     "slide_type": "slide"
    }
   },
   "source": [
    "## Elementos de matriz\n",
    "\n",
    "* Los autovalores $j,m$ etiquetan de forma única los elementos del espacio.\n",
    "\n",
    "$$ \\hat{I} = \\sum_{j}\\sum_{m=-j}^{+j} \\left|j,m\\right>\\left<j,m\\right|$$\n",
    "\n",
    "$$ \\hat{\\vec{J}} = \\hat{I}\\hat{\\vec{J}}\\hat{I} = \\sum_{j}\\sum_{m=-j}^{+j} \\left|j,m\\right>\\left<j,m\\right| \\hat{\\vec{J}} \\sum_{j'}\\sum_{m'=-j'}^{+j'} \\left|j',m'\\right>\\left<j',m'\\right| = $$\n",
    "\n",
    "$$ = \\sum_{j}\\sum_{m=-j}^{+j} \\sum_{j'}\\sum_{m'=-j'}^{+j'} \\left|j,m\\right> J_{j,m,j',m'} \\left<j',m'\\right|$$\n",
    "\n",
    "$$ J_{j,m,j',m'} = \\left<j,m\\right| \\hat{\\vec{J}}  \\left|j',m'\\right>$$"
   ]
  },
  {
   "cell_type": "markdown",
   "metadata": {
    "slideshow": {
     "slide_type": "slide"
    }
   },
   "source": [
    "## Elementos de matriz\n",
    "\n",
    "* Tomemos por ejemplo el caso de fijar $j$ a un único valor\n",
    "\n",
    "$$J^2_{mm'} = \\hbar^2 j(j+1) \\left( \\matrix{ 1 & 0 & \\cdots & 0 \\\\ 0 & 1 & \\cdots & 0 \\\\ \\vdots & \\vdots & \\ddots & \\vdots \\\\ 0 & 0 & \\cdots & 1\\\\ }\\right);$$  \n",
    "\n",
    "$${J_3}_{mm'} = \\hbar \\left( \\matrix{ j & 0 & \\cdots & 0 \\\\ 0 & j-1 & \\cdots & 0\\\\ \\vdots & \\vdots & \\ddots & \\vdots \\\\  0 & 0 & \\cdots & -j\\\\ }\\right)$$\n",
    "\n",
    "\n",
    "\n"
   ]
  },
  {
   "cell_type": "markdown",
   "metadata": {
    "slideshow": {
     "slide_type": "subslide"
    }
   },
   "source": [
    "## Elementos de matriz $J_{+}$\n",
    "$${J_{+}}_{mm'} = \\hbar \\left( \\matrix{ 0 & \\sqrt{2j} & 0 & \\cdots & 0 & 0 & 0\\\\ 0 & 0 & \\sqrt{2(2j-1)} & \\cdots & 0 & 0 & 0 \\\\ 0 & 0 & 0 & \\ddots & 0 & 0 & 0 \\\\ \\vdots & \\vdots & \\vdots & \\ddots & \\ddots & \\vdots & \\vdots \\\\ 0 & 0 & 0 & \\cdots & 0 & \\sqrt{2(2j-1)} & 0\\\\ 0 & 0 & 0 & \\cdots & 0 & 0 & \\sqrt{2j} \\\\ 0 & 0 & 0 & \\cdots & 0 & 0 & 0 \\\\}\\right)$$"
   ]
  },
  {
   "cell_type": "markdown",
   "metadata": {
    "slideshow": {
     "slide_type": "subslide"
    }
   },
   "source": [
    "## Entendiendo la secuencia\n",
    "\n",
    "* Los elementos de matriz no nulos de $\\hat{J}_{+}$\n",
    "\n",
    "$$\\sqrt{j(j+1)-m(m+1)}, ~~~~~m=j-1\\cdots -j$$\n",
    "\n",
    "* Cambiamos a una variable $k$ positiva: $m=j-k$\n",
    "\n",
    "$$\\sqrt{k(2j-(k-1))}, ~~~~~k=1\\cdots 2j$$\n",
    "\n",
    "* Queda:\n",
    "\n",
    "$$\\sqrt{2j}, ~~\\sqrt{(2)(2j-1)}, ~~\\sqrt{(3)(2j-2)},\\dots, \\sqrt{(2j-2)(2j-(2j-2-1))}, ~~ \\sqrt{(2j-1)(2j-(2j-1-1))}, ~~\\sqrt{(2j)(2j-(2j-1))}$$\n",
    "\n",
    "$$\\longrightarrow \\sqrt{2j}, ~~\\sqrt{(2)(2j-1)}, ~~\\sqrt{(3)(2j-2)},\\dots, \\sqrt{(2j-2)(3))}, ~~ \\sqrt{(2j-1)(2))}, ~~\\sqrt{(2j)(1)}$$"
   ]
  },
  {
   "cell_type": "markdown",
   "metadata": {
    "slideshow": {
     "slide_type": "subslide"
    }
   },
   "source": [
    "## Elementos de matriz $J_{-}$\n",
    "\n",
    "$${J_{-}}_{mm'} = \\hbar \\left( \\matrix{ 0 & 0 & 0 & \\cdots & 0 & 0 & 0\\\\ \\sqrt{2j} & 0 & 0 & \\cdots & 0 & 0 & 0 \\\\ 0 & \\sqrt{2(2j-1)} & 0 & \\cdots & 0 & 0 & 0 \\\\ \\vdots & \\vdots & \\ddots & \\ddots & \\vdots & \\vdots & \\vdots \\\\ 0 & 0 & 0 & \\ddots & 0 & 0 & 0\\\\ 0 & 0 & 0 & \\cdots & \\sqrt{2(2j-1)} & 0 & 0 \\\\ 0 & 0 & 0 & \\cdots & 0 & \\sqrt{2j} & 0 \\\\}\\right)$$"
   ]
  },
  {
   "cell_type": "markdown",
   "metadata": {
    "slideshow": {
     "slide_type": "slide"
    }
   },
   "source": [
    "## Ejemplo $j=\\frac{1}{2}$\n",
    "\n",
    "$$J^2_{mm'} = \\frac{3\\hbar^2}{4} \\left( \\matrix{ 1 & 0 \\\\ 0  & 1\\\\ }\\right); ~~~~{J_3}_{mm'} = \\frac{\\hbar}{2} \\left( \\matrix{ 1 & 0 \\\\  0 & -1\\\\ }\\right)$$\n",
    "\n",
    "$${J_{+}}_{mm'} = \\hbar \\left( \\matrix{ 0 & 1 \\\\ 0  & 0\\\\ }\\right); ~~~~{J_{-}}_{mm'} = \\hbar \\left( \\matrix{ 0 & 0 \\\\  1 & 0\\\\ }\\right)$$\n",
    "\n",
    "$${J_{1}}_{mm'} = \\frac{1}{2}({J_{+}}_{mm'} + {J_{-}}_{mm'}) = \\frac{\\hbar}{2} \\left( \\matrix{ 0 & 1 \\\\ 1  & 0\\\\ }\\right);$$\n",
    "$${J_{2}}_{mm'} = \\frac{1}{2i}({J_{+}}_{mm'} - {J_{-}}_{mm'}) = \\frac{\\hbar}{2} \\left( \\matrix{ 0 & -i \\\\ i  & 0\\\\ }\\right)$$"
   ]
  },
  {
   "cell_type": "markdown",
   "metadata": {
    "slideshow": {
     "slide_type": "slide"
    }
   },
   "source": [
    "## Ejemplo $j=1$\n",
    "\n",
    "$$J^2_{mm'} = 2\\hbar^2 \\left( \\matrix{ 1 & 0 & 0 \\\\ 0 & 1 & 0 \\\\ 0 & 0 & 1\\\\ }\\right); ~~~~{J_3}_{mm'} = \\hbar \\left( \\matrix{ 1 & 0 & 0 \\\\ 0 & 0 & 0 \\\\ 0 & 0 & -1\\\\ }\\right)$$\n",
    "\n",
    "$${J_{+}}_{mm'} = \\hbar \\left( \\matrix{ 0 & \\sqrt{2} & 0 \\\\ 0  & 0 & \\sqrt{2} \\\\ 0  & 0 & 0 \\\\ }\\right); ~~~~{J_{-}}_{mm'} = \\hbar \\left( \\matrix{ 0 & 0 & 0 \\\\ \\sqrt{2} & 0 & 0 \\\\ 0  & \\sqrt{2} & 0 \\\\ }\\right)$$\n",
    "\n",
    "$${J_{1}}_{mm'} = \\frac{1}{2}({J_{+}}_{mm'} + {J_{-}}_{mm'}) = \\frac{\\sqrt{2}\\hbar}{2} \\left( \\matrix{ 0 & 1 & 0 \\\\ 1  & 0 & 1 \\\\  0 & 1 & 0 \\\\ }\\right);$$\n",
    "$${J_{2}}_{mm'} = \\frac{1}{2i}({J_{+}}_{mm'} - {J_{-}}_{mm'}) = \\frac{\\sqrt{2}\\hbar}{2} \\left( \\matrix{ 0 & -i & 0 \\\\ i  & 0 & -i \\\\  0 & i & 0 \\\\ }\\right)$$"
   ]
  },
  {
   "cell_type": "markdown",
   "metadata": {
    "slideshow": {
     "slide_type": "slide"
    }
   },
   "source": [
    "## Caso más general: $j \\in \\{j,j+1,\\cdots,j+n\\}$\n",
    "\n",
    "* El espacio se descompone en la suma directa de subespacios para cada valor de $j \\longrightarrow j \\oplus j+1 \\oplus \\dots \\oplus j+n$.\n",
    "* Ejemplo $1 \\oplus 2$\n",
    "\n",
    "$$ J^2 = \\hbar^2{\\rm Diag}(2,2,2,6,6,6,6,6);$$\n",
    "\n",
    "$$ J_3 = \\hbar{\\rm Diag}(1,0,-1,2,1,0,-1,-2);$$"
   ]
  },
  {
   "cell_type": "markdown",
   "metadata": {
    "slideshow": {
     "slide_type": "subslide"
    }
   },
   "source": [
    "## Ejemplo $1 \\oplus 2$\n",
    "\n",
    "* Las matrices tienen una estructura de bloques\n",
    "\n",
    "![componentes](figuras/suma_directa_1mas2.png)"
   ]
  }
 ],
 "metadata": {
  "celltoolbar": "Slideshow",
  "kernelspec": {
   "display_name": "Python 3",
   "language": "python",
   "name": "python3"
  },
  "language_info": {
   "codemirror_mode": {
    "name": "ipython",
    "version": 3
   },
   "file_extension": ".py",
   "mimetype": "text/x-python",
   "name": "python",
   "nbconvert_exporter": "python",
   "pygments_lexer": "ipython3",
   "version": "3.5.2"
  }
 },
 "nbformat": 4,
 "nbformat_minor": 4
}
