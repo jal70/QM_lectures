{
 "cells": [
  {
   "cell_type": "markdown",
   "metadata": {
    "slideshow": {
     "slide_type": "slide"
    }
   },
   "source": [
    "# Momento Angular\n",
    "\n",
    "## Introducción y definiciones"
   ]
  },
  {
   "cell_type": "markdown",
   "metadata": {
    "slideshow": {
     "slide_type": "slide"
    }
   },
   "source": [
    "# Objetivos\n",
    "En esta sección estudiaremos los conceptos de\n",
    "\n",
    "* sss"
   ]
  },
  {
   "cell_type": "markdown",
   "metadata": {
    "slideshow": {
     "slide_type": "slide"
    }
   },
   "source": [
    "xxxx"
   ]
  },
  {
   "cell_type": "markdown",
   "metadata": {
    "slideshow": {
     "slide_type": "fragment"
    }
   },
   "source": [
    "### Referencia principal\n",
    "* ZETTILI, N. Quantum Mechanics Concepts and Applications: John Wiley & Sons Ltd UK. 2009. \n",
    "    * (Capítulo 5)"
   ]
  },
  {
   "cell_type": "markdown",
   "metadata": {
    "slideshow": {
     "slide_type": "slide"
    }
   },
   "source": [
    "# Por qué estudiar momento angular\n",
    "\n",
    "* Relevante en sistemas en 3 dimensiones\n",
    "* Potenciales centrales\n",
    "    * Cantidad conservada\n",
    "* Primeros resultados de la Mecánica Cuántica:\n",
    "    * Cuantización del momento angular\n",
    "* Aplicaciones\n",
    "    * Rotación de moléculas\n",
    "    * Orbitales de electrones"
   ]
  },
  {
   "cell_type": "markdown",
   "metadata": {
    "slideshow": {
     "slide_type": "slide"
    }
   },
   "source": [
    "## Operador momento angular\n",
    "\n",
    "Construimos el operador momento angular a partir de la expresión conocida en la Mecánica Clásica:\n",
    "\n",
    "$$\\vec{L} = \\vec{r}\\times\\vec{p}$$\n",
    "\n",
    "El operador queda (representación de posición)\n",
    "\n",
    "$$\\hat{\\vec{L}} = \\hat{\\vec{R}}\\times\\hat{\\vec{P}} = -i\\hbar \\vec{r}\\times\\vec{\\nabla}$$\n"
   ]
  },
  {
   "cell_type": "markdown",
   "metadata": {
    "slideshow": {
     "slide_type": "fragment"
    }
   },
   "source": [
    "* Importante:\n",
    "    * Se toma el orden estándar de la definición en Mecánica Clásica.\n",
    "    * Recordar que los observables en MC pueden depender de productos de operadores que no conmutan y el orden que se da en la definición no es indiferente.\n",
    "    * $\\hat{\\vec{L}}$ es un conjunto de tres operadores hermíticos ($\\hat{L}^2$ también es hermítico) **(Ejercicio)**\n"
   ]
  },
  {
   "cell_type": "markdown",
   "metadata": {
    "slideshow": {
     "slide_type": "slide"
    }
   },
   "source": [
    "## Componentes del momento angular\n",
    "\n",
    "Podemos escribir $\\hat{\\vec{L}}$ en componentes usando la definición del producto vectorial (o nuestra mejor amiga, la densidad de Levi-Civita)\n",
    "\n",
    "$$\\epsilon_{123}=\\epsilon_{312}=\\epsilon_{231}=1$$\n",
    "$$\\epsilon_{213}=\\epsilon_{132}=\\epsilon_{321}=-1$$\n",
    "\n",
    "![componentes](figuras/componentes_L.png)"
   ]
  },
  {
   "cell_type": "markdown",
   "metadata": {
    "slideshow": {
     "slide_type": "slide"
    }
   },
   "source": [
    "## Relaciones de conmutación\n",
    "\n",
    "* Conmutadores de $\\hat{R}_i$ con $\\hat{L}_i$\n",
    "\n",
    "![componentes](figuras/conmutacion_rl.png)\n",
    "\n",
    "* Conmutadores de $\\hat{P}_i$ con $\\hat{L}_i$ **(Ejercicio)**\n",
    "$$\\left[\\hat{P}_i,\\hat{L}_j\\right] = i\\hbar \\sum_k \\epsilon_{ijk}\\hat{P}_k$$"
   ]
  },
  {
   "cell_type": "markdown",
   "metadata": {
    "slideshow": {
     "slide_type": "slide"
    }
   },
   "source": [
    "## Conmutadores de $L,L$\n",
    "\n",
    "![componentes](figuras/conmutacion_LL_1.png)\n"
   ]
  },
  {
   "cell_type": "markdown",
   "metadata": {
    "slideshow": {
     "slide_type": "fragment"
    }
   },
   "source": [
    "Recordar las propiedades de la contracción de $\\epsilon_{ijk}$\n",
    "\n",
    "![componentes](figuras/conmutacion_LL_1_5.png)"
   ]
  },
  {
   "cell_type": "markdown",
   "metadata": {
    "slideshow": {
     "slide_type": "subslide"
    }
   },
   "source": [
    "## Conmutadores de $L,L$\n",
    "\n",
    "![componentes](figuras/conmutacion_LL_2.png)"
   ]
  },
  {
   "cell_type": "markdown",
   "metadata": {
    "slideshow": {
     "slide_type": "slide"
    }
   },
   "source": [
    "# Resumen: operadores vectoriales\n",
    "\n",
    "* Los operadores $\\hat{\\vec{R}}$, $\\hat{\\vec{P}}$ y $\\hat{\\vec{L}}$ son vectoriales\n",
    "    * Un operador vectorial, $\\hat{\\vec{V}}$ cumple la siguiente relación de conmutación con $\\hat{\\vec{L}}$:\n",
    "    \n",
    "$$\\left[\\hat{V}_i,\\hat{L}_j\\right] = i\\hbar \\sum_k \\epsilon_{ijk}\\hat{V}_k$$\n",
    "\n",
    "* En componentes\n",
    "\n",
    "$$\\left[\\hat{V}_1,\\hat{L}_2\\right] = i\\hbar\\hat{V}_3$$\n",
    "\n",
    "$$\\left[\\hat{V}_1,\\hat{L}_3\\right] = -i\\hbar\\hat{V}_2$$\n",
    "\n",
    "$$\\left[\\hat{V}_3,\\hat{L}_1\\right] = i\\hbar\\hat{V}_2$$\n",
    "\n",
    "$$\\left[\\hat{V}_3,\\hat{L}_2\\right] = -i\\hbar\\hat{V}_1$$\n",
    "\n",
    "$$\\left[\\hat{V}_2,\\hat{L}_3\\right] = i\\hbar\\hat{V}_1$$\n",
    "\n",
    "$$\\left[\\hat{V}_2,\\hat{L}_1\\right] = -i\\hbar\\hat{V}_3$$"
   ]
  },
  {
   "cell_type": "markdown",
   "metadata": {
    "slideshow": {
     "slide_type": "subslide"
    }
   },
   "source": [
    "## Operadores escalares\n",
    "* Los operadores escalares conmuntan con el momento angular\n",
    "\n",
    "$$\\left[\\hat{S},\\hat{\\vec{L}}\\right] = 0$$\n",
    "\n",
    "* Ejemplo: \n",
    "\n",
    "$$\\hat{L}^2 \\equiv \\hat{L}^2_1 + \\hat{L}^2_2 + \\hat{L}^2_3$$\n",
    "\n",
    "![componentes](figuras/componentes_L2.png)"
   ]
  },
  {
   "cell_type": "markdown",
   "metadata": {
    "slideshow": {
     "slide_type": "slide"
    }
   },
   "source": [
    "## Operador general\n",
    "\n",
    "* Un operador general de momento angular ($\\hat{\\vec{J}}$) debe cumplir las reglas de conmutación que hemos encontrado para $\\hat{\\vec{L}}$\n",
    "\n",
    "$$\\left[\\hat{J}_i,\\hat{J}_j\\right] = i\\hbar \\sum_k \\epsilon_{ijk}\\hat{J}_k$$\n",
    "\n",
    "$$\\left[\\hat{J}^2,\\hat{J}_i\\right] = 0$$\n",
    "\n",
    "\n",
    "* $\\hat{\\vec{L}}$ es el momento angular orbital, un caso especial.\n",
    "* Otro caso es el momento angular intrínseco del electrón $\\hat{\\vec{S}}$\n",
    "\n"
   ]
  },
  {
   "cell_type": "markdown",
   "metadata": {
    "slideshow": {
     "slide_type": "slide"
    }
   },
   "source": [
    "## Autovalores del momento angular\n",
    "\n",
    "* No es posible diagonalizar de forma simultánea las tres componentes del momento angular.\n",
    "* Se puede diagonalizar una de las componentes (genéricamente $\\hat{J}_3$) en forma simultánea con el escalar $\\hat {J}^2$.\n",
    "* Definimos provisionalmente los autovalores de $\\hat {J}^2$ y $\\hat{J}_3$, $\\hbar^2\\alpha$ y $\\hbar\\beta$ respectivamente. \n",
    "    * $\\alpha$ y $\\beta$ son adimensionales.\n",
    "* Los autovectores $\\left|\\alpha.\\beta\\right>$ son ortonormales\n",
    "\n"
   ]
  },
  {
   "cell_type": "markdown",
   "metadata": {
    "slideshow": {
     "slide_type": "slide"
    }
   },
   "source": [
    "## Autovalores del momento angular\n",
    "\n",
    "![componentes](figuras/etiquetas_j.png)"
   ]
  },
  {
   "cell_type": "markdown",
   "metadata": {
    "slideshow": {
     "slide_type": "slide"
    }
   },
   "source": [
    "## Operadores escalera\n",
    "* Recordando como se hizo para construir el espectro del oscilador armónico\n",
    "\n",
    "![componentes](figuras/escalera_J.png)"
   ]
  },
  {
   "cell_type": "markdown",
   "metadata": {
    "slideshow": {
     "slide_type": "slide"
    }
   },
   "source": [
    "## Otra identidad útil\n",
    "![componentes](figuras/producto_escalera.png)"
   ]
  },
  {
   "cell_type": "markdown",
   "metadata": {
    "slideshow": {
     "slide_type": "slide"
    }
   },
   "source": [
    "## Operadores en acción\n",
    "\n",
    "* $\\hat{J}_{\\pm}$ suben y bajan el autovalor de $\\hat{J}_3$ en una unidad de $\\hbar$\n",
    "    * El autovalor de $\\hat{J}^2$ no cambia\n",
    "    \n",
    "![componentes](figuras/subiendo_bajando_j3.png)"
   ]
  },
  {
   "cell_type": "markdown",
   "metadata": {
    "slideshow": {
     "slide_type": "slide"
    }
   },
   "source": [
    "## Límites para $\\beta$\n",
    "\n",
    "* El operador $\\hat{J}^2-\\hat{J}_3^2 = \\hat{J}_1^2 + \\hat{J}_2^2$ es positivo **(Ejercicio)**\n",
    "\n",
    "$$0 \\leq \\left<\\alpha,\\beta\\right|\\hat{J}^2-\\hat{J}_3^2\\left|\\alpha,\\beta\\right> = \\hbar^2(\\alpha-\\beta^2)$$\n",
    "\n",
    "$$\\alpha\\geq\\beta^2$$"
   ]
  },
  {
   "cell_type": "markdown",
   "metadata": {
    "slideshow": {
     "slide_type": "subslide"
    }
   },
   "source": [
    "## Límites para $\\beta$\n",
    "\n",
    "* Existe un valor límite $\\beta_{max}$, tal que no puede aumentar más, al actuar el operador $\\hat{J}_+$.\n",
    "\n",
    "$$\\hat{J}_+\\left|\\alpha,\\beta_{max}\\right> = 0$$\n",
    "\n",
    "![componentes](figuras/beta_sup.png)"
   ]
  },
  {
   "cell_type": "markdown",
   "metadata": {
    "slideshow": {
     "slide_type": "slide"
    }
   },
   "source": [
    "## Límites para $\\beta$\n",
    "\n",
    "* También hay un límite inferior $\\beta_{min}$, tal que no puede disminuir más, al actuar el operador $\\hat{J}_-$.\n",
    "\n",
    "$$\\hat{J}_-\\left|\\alpha,\\beta_{min}\\right> = 0$$\n",
    "\n",
    "![componentes](figuras/beta_inf.png)"
   ]
  },
  {
   "cell_type": "markdown",
   "metadata": {
    "slideshow": {
     "slide_type": "slide"
    }
   },
   "source": [
    "* Podemos observar $\\beta_{max} = -\\beta_{min}$\n",
    "\n",
    "* La acción de $\\hat{J}_{\\pm}$ cambia el valor de $\\beta$ en una unidad. Entonces $\\beta_{max} = \\beta_{min} + n$.\n",
    "\n",
    "    * $n$ es un número entero\n",
    "    * $\\beta_{max} = \\frac{n}{2}$, el valor máximo es entero o semi-entero.\n",
    "    * Redefinimos $j=\\beta_{max} = \\frac{n}{2}$\n",
    "    * $\\alpha = j(j+1)$\n",
    "\n",
    "$$\\left|\\alpha,\\beta\\right>  \\longrightarrow \\left|j,m\\right> $$\n",
    "    \n",
    "$$-j \\leq m \\leq j$$\n",
    "\n",
    "$$ \\hat{J}^2 \\left|j,m\\right> = \\hbar^2 j(j+1)\\left|j,m\\right> $$\n",
    "\n",
    "$$ \\hat{J}_3 \\left|j,m\\right> = \\hbar m\\left|j,m\\right> $$\n",
    "\n",
    "$$ \\left<j,m|j',m'\\right> = \\delta_{j j'}\\delta_{m m'} $$"
   ]
  },
  {
   "cell_type": "markdown",
   "metadata": {
    "slideshow": {
     "slide_type": "slide"
    }
   },
   "source": [
    "## Acción de $\\hat{J}_{\\pm}$\n",
    "\n",
    "* Hemos descubierto que $\\hat{J}_{\\pm}\\left|j,m\\right> = C_{j,m}^{\\pm}\\left|j,m \\pm 1\\right> \\sim \\left|j,m \\pm 1\\right>$\n",
    "\n",
    "* Nos concentraremos en hallar la constante de proporcionalidad\n",
    "\n",
    "![componentes](figuras/normalizacion.png)"
   ]
  },
  {
   "cell_type": "markdown",
   "metadata": {
    "slideshow": {
     "slide_type": "slide"
    }
   },
   "source": []
  }
 ],
 "metadata": {
  "celltoolbar": "Slideshow",
  "kernelspec": {
   "display_name": "Python 3",
   "language": "python",
   "name": "python3"
  },
  "language_info": {
   "codemirror_mode": {
    "name": "ipython",
    "version": 3
   },
   "file_extension": ".py",
   "mimetype": "text/x-python",
   "name": "python",
   "nbconvert_exporter": "python",
   "pygments_lexer": "ipython3",
   "version": "3.5.2"
  }
 },
 "nbformat": 4,
 "nbformat_minor": 4
}
